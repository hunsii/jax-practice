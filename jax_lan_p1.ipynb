{
  "nbformat": 4,
  "nbformat_minor": 0,
  "metadata": {
    "colab": {
      "provenance": [],
      "authorship_tag": "ABX9TyPgmgFQamQC6rTHcm3nyQJc",
      "include_colab_link": true
    },
    "kernelspec": {
      "name": "python3",
      "display_name": "Python 3"
    },
    "language_info": {
      "name": "python"
    },
    "accelerator": "TPU",
    "gpuClass": "standard"
  },
  "cells": [
    {
      "cell_type": "markdown",
      "metadata": {
        "id": "view-in-github",
        "colab_type": "text"
      },
      "source": [
        "<a href=\"https://colab.research.google.com/github/hunsii/jax-practice/blob/main/jax_lan_p1.ipynb\" target=\"_parent\"><img src=\"https://colab.research.google.com/assets/colab-badge.svg\" alt=\"Open In Colab\"/></a>"
      ]
    },
    {
      "cell_type": "code",
      "source": [
        "import jax\n",
        "import jax.numpy as jnp\n",
        "from jax import random\n",
        "from jax import grad, jit, vmap\n",
        "from jax import lax\n",
        "from jax.example_libraries import optimizers\n",
        "from jax.tree_util import tree_flatten, tree_unflatten\n",
        "from jax.nn import softmax, relu\n",
        "from jax.scipy.special import logsumexp\n",
        "import numpy as np\n",
        "import matplotlib.pyplot as plt\n",
        "\n",
        "from tensorflow.keras.datasets import mnist\n"
      ],
      "metadata": {
        "id": "K7YbNmvcRmC3"
      },
      "execution_count": null,
      "outputs": []
    },
    {
      "cell_type": "code",
      "source": [
        "import jax\n",
        "import jax.numpy as jnp\n",
        "from jax import grad, jit, vmap\n",
        "from jax import random\n",
        "# from jax.experimental import optimizers\n",
        "from jax.example_libraries import optimizers\n",
        "from jax.nn import relu, softmax, log_softmax\n",
        "\n",
        "# Load MNIST dataset\n",
        "from tensorflow.keras.datasets import mnist\n",
        "(train_images, train_labels), (test_images, test_labels) = mnist.load_data()\n",
        "train_images = train_images.reshape(train_images.shape[0], 784) / 255.0\n",
        "test_images = test_images.reshape(test_images.shape[0], 784) / 255.0\n",
        "train_labels = jax.nn.one_hot(train_labels, 10)\n",
        "test_labels = jax.nn.one_hot(test_labels, 10)\n",
        "\n",
        "# Define neural network architecture\n",
        "def net(params, x):\n",
        "  w1, b1, w2, b2 = params\n",
        "  hidden = jnp.dot(x, w1) + b1\n",
        "  hidden = relu(hidden)\n",
        "  logits = jnp.dot(hidden, w2) + b2\n",
        "  return logits\n",
        "\n",
        "# Define loss function\n",
        "def loss(params, x, y):\n",
        "  logits = net(params, x)\n",
        "  return -jnp.mean(jnp.sum(y * log_softmax(logits), axis=1))\n",
        "\n",
        "# Define accuracy metric\n",
        "def accuracy(params, images, labels):\n",
        "  preds = net(params, images)\n",
        "  return jnp.mean(jnp.argmax(preds, axis=1) == jnp.argmax(labels, axis=1))\n",
        "\n",
        "# Initialize network parameters\n",
        "key = random.PRNGKey(0)\n",
        "input_shape = (-1, 784)\n",
        "hidden_shape = 256\n",
        "output_shape = 10\n",
        "w1 = random.normal(key, (784, hidden_shape))\n",
        "b1 = jnp.zeros(hidden_shape)\n",
        "w2 = random.normal(key, (hidden_shape, output_shape))\n",
        "b2 = jnp.zeros(output_shape)\n",
        "params = (w1, b1, w2, b2)\n",
        "\n",
        "# Define optimizer\n",
        "step_size = 0.001\n",
        "opt_init, opt_update, get_params = optimizers.adam(step_size)\n",
        "opt_state = opt_init(params)\n",
        "\n",
        "# Define training step\n",
        "@jit\n",
        "def update(params, x, y, opt_state):\n",
        "  grads = grad(loss)(params, x, y)\n",
        "  return opt_update(0, grads, opt_state), get_params(opt_state)\n",
        "\n",
        "# Train the network\n",
        "num_epochs = 10\n",
        "batch_size = 128\n",
        "num_batches = train_images.shape[0] // batch_size\n",
        "\n",
        "for epoch in range(num_epochs):\n",
        "  for batch in range(num_batches):\n",
        "    start_idx = batch * batch_size\n",
        "    end_idx = (batch + 1) * batch_size\n",
        "    batch_images = train_images[start_idx:end_idx]\n",
        "    batch_labels = train_labels[start_idx:end_idx]\n",
        "    opt_state, params = update(params, batch_images, batch_labels, opt_state)\n",
        "  train_acc = accuracy(params, train_images, train_labels)\n",
        "  test_acc = accuracy(params, test_images, test_labels)\n",
        "  print(\"Epoch {}: train acc = {:.3f}, test acc = {:.3f}\".format(epoch+1, train_acc, test_acc))\n"
      ],
      "metadata": {
        "colab": {
          "base_uri": "https://localhost:8080/"
        },
        "id": "2Rs5W8g1xRJV",
        "outputId": "72820f84-b436-4e36-9deb-02db637a949e"
      },
      "execution_count": null,
      "outputs": [
        {
          "output_type": "stream",
          "name": "stdout",
          "text": [
            "Epoch 1: train acc = 0.811, test acc = 0.809\n",
            "Epoch 2: train acc = 0.853, test acc = 0.847\n",
            "Epoch 3: train acc = 0.874, test acc = 0.867\n",
            "Epoch 4: train acc = 0.888, test acc = 0.879\n",
            "Epoch 5: train acc = 0.897, test acc = 0.888\n",
            "Epoch 6: train acc = 0.905, test acc = 0.893\n",
            "Epoch 7: train acc = 0.912, test acc = 0.898\n",
            "Epoch 8: train acc = 0.917, test acc = 0.902\n",
            "Epoch 9: train acc = 0.922, test acc = 0.906\n",
            "Epoch 10: train acc = 0.927, test acc = 0.911\n"
          ]
        }
      ]
    },
    {
      "cell_type": "code",
      "source": [],
      "metadata": {
        "id": "AIY7_DZayCNq"
      },
      "execution_count": null,
      "outputs": []
    }
  ]
}