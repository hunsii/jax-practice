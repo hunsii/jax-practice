{
  "nbformat": 4,
  "nbformat_minor": 0,
  "metadata": {
    "colab": {
      "provenance": [],
      "toc_visible": true,
      "authorship_tag": "ABX9TyP65sR95CZzymWnSJ9H2mkw",
      "include_colab_link": true
    },
    "kernelspec": {
      "name": "python3",
      "display_name": "Python 3"
    },
    "language_info": {
      "name": "python"
    },
    "gpuClass": "standard"
  },
  "cells": [
    {
      "cell_type": "markdown",
      "metadata": {
        "id": "view-in-github",
        "colab_type": "text"
      },
      "source": [
        "<a href=\"https://colab.research.google.com/github/hunsii/jax-practice/blob/main/p2_jax_with_tpu.ipynb\" target=\"_parent\"><img src=\"https://colab.research.google.com/assets/colab-badge.svg\" alt=\"Open In Colab\"/></a>"
      ]
    },
    {
      "cell_type": "markdown",
      "source": [
        "# Load library\n",
        "\n",
        "\n",
        "\n",
        "\n",
        "```\n",
        "from jax.experimental import optimizers\n",
        "```\n",
        "에 문제가 생기면 \n",
        "```\n",
        "from jax.example_libraries import optimizers\n",
        "```\n",
        "로 변경하여 사용하자."
      ],
      "metadata": {
        "id": "Br6dumEwF0Qd"
      }
    },
    {
      "cell_type": "code",
      "source": [
        "import jax\n",
        "import jax.numpy as jnp\n",
        "from jax import grad, jit, vmap\n",
        "from jax import random\n",
        "# from jax.experimental import optimizers\n",
        "from jax.example_libraries import optimizers\n",
        "from jax.nn import relu, softmax, log_softmax\n",
        "from jax.config import config\n",
        "\n",
        "\n",
        "from tensorflow.keras.datasets import mnist"
      ],
      "metadata": {
        "id": "Q7fXXSv3EtL5"
      },
      "execution_count": 1,
      "outputs": []
    },
    {
      "cell_type": "markdown",
      "source": [
        "# Set up JAX to use TPU"
      ],
      "metadata": {
        "id": "2sK4x8XVFt4r"
      }
    },
    {
      "cell_type": "markdown",
      "source": [
        "위의 코드에서는 MNIST 데이터셋을 분류하기 위해 2개의 은닉층을 가지는 간단한 신경망을 정의합니다. JAX 최적화 알고리즘인 Adam을 사용하여 신경망을 학습시킵니다. jax.device_put_sharded 함수를 사용하여 학습 데이터를 TPU로 이동시킵니다. 마지막으로, 여러 epoch에 대해 학습 데이터를 반복하고, 학습 및 테스트 데이터셋에서 신경망의 정확도를 계산합니다.\n",
        "\n",
        "위의 코드를 실행하기 위해서는 <TPU_IP_ADDRESS> 부분을 TPU 인스턴스의 IP 주소로 교체해야 합니다. 또한, batch_size 및 num_epochs 매개변수를 사용자의 상황에 맞게 수정해야 할 수도 있습니다.\n",
        "\n",
        "\n",
        "\n"
      ],
      "metadata": {
        "id": "50tUnKmUHeXQ"
      }
    },
    {
      "cell_type": "code",
      "source": [
        "config.FLAGS.jax_xla_backend = \"tpu_driver\"\n",
        "config.FLAGS.jax_backend_target = \"grpc://<TPU_IP_ADDRESS>:8470\"\n",
        "\n",
        "# Set up TPU device\n",
        "tpu_device = jax.devices()[0]"
      ],
      "metadata": {
        "id": "6f37P8rxFsjw"
      },
      "execution_count": null,
      "outputs": []
    },
    {
      "cell_type": "markdown",
      "source": [
        "# Load MNIST dataset"
      ],
      "metadata": {
        "id": "wVfnFUnAE14F"
      }
    },
    {
      "cell_type": "code",
      "source": [
        "(train_images, train_labels), (test_images, test_labels) = mnist.load_data()\n",
        "train_images = train_images.reshape(train_images.shape[0], 784) / 255.0\n",
        "test_images = test_images.reshape(test_images.shape[0], 784) / 255.0\n",
        "train_labels = jax.nn.one_hot(train_labels, 10)\n",
        "test_labels = jax.nn.one_hot(test_labels, 10)"
      ],
      "metadata": {
        "colab": {
          "base_uri": "https://localhost:8080/"
        },
        "id": "fID5KFGQExkT",
        "outputId": "c0229f69-9107-4397-a2bc-5af744ba6c92"
      },
      "execution_count": 2,
      "outputs": [
        {
          "output_type": "stream",
          "name": "stdout",
          "text": [
            "Downloading data from https://storage.googleapis.com/tensorflow/tf-keras-datasets/mnist.npz\n",
            "11490434/11490434 [==============================] - 0s 0us/step\n"
          ]
        },
        {
          "output_type": "stream",
          "name": "stderr",
          "text": [
            "WARNING:jax._src.xla_bridge:No GPU/TPU found, falling back to CPU. (Set TF_CPP_MIN_LOG_LEVEL=0 and rerun for more info.)\n"
          ]
        }
      ]
    },
    {
      "cell_type": "markdown",
      "source": [
        "# Move training data to TPU"
      ],
      "metadata": {
        "id": "kS9pqceAG7xe"
      }
    },
    {
      "cell_type": "code",
      "source": [
        "train_images = jax.device_put_sharded(tpu_device, train_images)\n",
        "train_labels = jax.device_put_sharded(tpu_device, train_labels)"
      ],
      "metadata": {
        "id": "y9US5vikG8x1"
      },
      "execution_count": null,
      "outputs": []
    },
    {
      "cell_type": "markdown",
      "source": [
        "# Define neural network architecture"
      ],
      "metadata": {
        "id": "RoVephGxE4li"
      }
    },
    {
      "cell_type": "code",
      "source": [
        "def net(params, x):\n",
        "  w1, b1, w2, b2 = params\n",
        "  hidden = jnp.dot(x, w1) + b1\n",
        "  hidden = relu(hidden)\n",
        "  logits = jnp.dot(hidden, w2) + b2\n",
        "  return logits"
      ],
      "metadata": {
        "id": "yKAtUv3hE87p"
      },
      "execution_count": 3,
      "outputs": []
    },
    {
      "cell_type": "markdown",
      "source": [
        "# Define loss function"
      ],
      "metadata": {
        "id": "bhwc2l3NGVKF"
      }
    },
    {
      "cell_type": "code",
      "source": [
        "def loss(params, x, y):\n",
        "    logits = net(params, x)\n",
        "    return -jnp.mean(jnp.sum(y * log_softmax(logits), axis=1))"
      ],
      "metadata": {
        "id": "qCcUM5X2GWRS"
      },
      "execution_count": null,
      "outputs": []
    },
    {
      "cell_type": "markdown",
      "source": [
        "# Define accuracy metric"
      ],
      "metadata": {
        "id": "m00fb_QtGXYL"
      }
    },
    {
      "cell_type": "code",
      "source": [
        "def accuracy(params, images, labels):\n",
        "    preds = net(params, images)\n",
        "    return jnp.mean(jnp.argmax(preds, axis=1) == jnp.argmax(labels, axis=1))"
      ],
      "metadata": {
        "id": "CJ55lWYcGYbJ"
      },
      "execution_count": null,
      "outputs": []
    },
    {
      "cell_type": "markdown",
      "source": [
        "# Initialize network parameters"
      ],
      "metadata": {
        "id": "fo14ZmMrGaxW"
      }
    },
    {
      "cell_type": "code",
      "source": [
        "key = random.PRNGKey(0)\n",
        "input_shape = (-1, 784)\n",
        "hidden_shape = 256\n",
        "output_shape = 10\n",
        "w1 = random.normal(key, (784, hidden_shape))\n",
        "b1 = jnp.zeros(hidden_shape)\n",
        "w2 = random.normal(key, (hidden_shape, output_shape))\n",
        "b2 = jnp.zeros(output_shape)\n",
        "params = (w1, b1, w2, b2)"
      ],
      "metadata": {
        "id": "DqBs_Fb6Gb5S"
      },
      "execution_count": null,
      "outputs": []
    },
    {
      "cell_type": "markdown",
      "source": [
        "# Define optimizer"
      ],
      "metadata": {
        "id": "g8lhCX_UGdaU"
      }
    },
    {
      "cell_type": "code",
      "source": [
        "step_size = 0.001\n",
        "opt_init, opt_update, get_params = optimizers.adam(step_size)\n",
        "opt_state = opt_init(params)"
      ],
      "metadata": {
        "id": "npHdxjGuGejZ"
      },
      "execution_count": null,
      "outputs": []
    },
    {
      "cell_type": "markdown",
      "source": [
        "# Define training step"
      ],
      "metadata": {
        "id": "eVfvrytvGikU"
      }
    },
    {
      "cell_type": "code",
      "source": [
        "@jit\n",
        "def update(params, x, y, opt_state):\n",
        "    grads = grad(loss)(params, x, y)\n",
        "    return opt_update(0, grads, opt_state), get_params(opt_state)"
      ],
      "metadata": {
        "id": "M3-9VNPcGjju"
      },
      "execution_count": null,
      "outputs": []
    },
    {
      "cell_type": "markdown",
      "source": [
        "# Train the network"
      ],
      "metadata": {
        "id": "lyZt7006Gmf0"
      }
    },
    {
      "cell_type": "code",
      "source": [
        "num_epochs = 10\n",
        "batch_size = 128\n",
        "num_batches = train_images.shape[0] // batch_size"
      ],
      "metadata": {
        "id": "R3QRdNf2Gm0S"
      },
      "execution_count": null,
      "outputs": []
    },
    {
      "cell_type": "code",
      "source": [
        "for epoch in range(num_epochs):\n",
        "    for batch in range(num_batches):\n",
        "        start_idx = batch * batch_size\n",
        "        end_idx = (batch + 1) * batch_size\n",
        "        batch_images = train_images[start_idx:end_idx]\n",
        "        batch_labels = train_labels[start_idx:end_idx]\n",
        "        opt_state, params = update(params, batch_images, batch_labels, opt_state)\n",
        "    train_acc = accuracy(params, train_images, train_labels)\n",
        "    test_acc = accuracy(params, test_images, test_labels)\n",
        "    print(\"Epoch {}: train acc = {:.3f}, test acc = {:.3f}\".format(epoch+1, train_acc, test_acc))"
      ],
      "metadata": {
        "colab": {
          "base_uri": "https://localhost:8080/"
        },
        "id": "2Rs5W8g1xRJV",
        "outputId": "2a4e1ad3-33a0-471c-9186-cca9cee7b196"
      },
      "execution_count": 4,
      "outputs": [
        {
          "output_type": "stream",
          "name": "stdout",
          "text": [
            "Epoch 1: train acc = 0.811, test acc = 0.809\n",
            "Epoch 2: train acc = 0.853, test acc = 0.847\n",
            "Epoch 3: train acc = 0.874, test acc = 0.867\n",
            "Epoch 4: train acc = 0.888, test acc = 0.879\n",
            "Epoch 5: train acc = 0.897, test acc = 0.888\n",
            "Epoch 6: train acc = 0.905, test acc = 0.893\n",
            "Epoch 7: train acc = 0.912, test acc = 0.898\n",
            "Epoch 8: train acc = 0.917, test acc = 0.902\n",
            "Epoch 9: train acc = 0.922, test acc = 0.906\n",
            "Epoch 10: train acc = 0.927, test acc = 0.911\n",
            "minjae > sihun = true \n",
            " minjae < sihun = false \n",
            " how typing korean??? i don't know.... my notebook's operation system \n"
          ]
        }
      ]
    },
    {
      "cell_type": "code",
      "source": [],
      "metadata": {
        "id": "AIY7_DZayCNq"
      },
      "execution_count": 4,
      "outputs": []
    }
  ]
}