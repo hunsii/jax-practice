{
 "cells": [
  {
   "cell_type": "markdown",
   "id": "e68c629c",
   "metadata": {},
   "source": [
    "어딘가 있던 flax 예제 모음 - CNN모델들 사용하길래 참고함\n",
    "\n",
    "https://uvadlc-notebooks.readthedocs.io/en/latest/tutorial_notebooks/JAX/tutorial5/Inception_ResNet_DenseNet.html"
   ]
  },
  {
   "cell_type": "markdown",
   "id": "0c58d22c",
   "metadata": {},
   "source": [
    "flax 공식문서 퀵 스타트\n",
    "\n",
    "https://flax.readthedocs.io/en/latest/getting_started.html"
   ]
  },
  {
   "cell_type": "markdown",
   "id": "a9a88f2c",
   "metadata": {},
   "source": [
    "batchnorm 공식 문서  \n",
    "https://flax.readthedocs.io/en/latest/guides/batch_norm.html"
   ]
  },
  {
   "cell_type": "markdown",
   "id": "72a2e805",
   "metadata": {},
   "source": [
    "# Prepare data"
   ]
  },
  {
   "cell_type": "code",
   "execution_count": 1,
   "id": "476f0114",
   "metadata": {},
   "outputs": [],
   "source": [
    "from typing import Sequence, Any\n",
    "\n",
    "import numpy as np\n",
    "import jax\n",
    "import jax.numpy as jnp\n",
    "import flax.linen as nn"
   ]
  },
  {
   "cell_type": "markdown",
   "id": "3a603969",
   "metadata": {},
   "source": [
    "# 2. Loading data"
   ]
  },
  {
   "cell_type": "code",
   "execution_count": 2,
   "id": "0e52b8ce",
   "metadata": {},
   "outputs": [
    {
     "data": {
      "application/vnd.jupyter.widget-view+json": {
       "model_id": "0900d620b3394e2b87ace38495f51b57",
       "version_major": 2,
       "version_minor": 0
      },
      "text/plain": [
       "  0%|          | 0/3457 [00:00<?, ?it/s]"
      ]
     },
     "metadata": {},
     "output_type": "display_data"
    },
    {
     "name": "stdout",
     "output_type": "stream",
     "text": [
      "(2765, 224, 224, 3) (2765,)\n",
      "87 22\n"
     ]
    }
   ],
   "source": [
    "import glob\n",
    "import numpy as np\n",
    "from PIL import Image\n",
    "from tqdm.notebook import tqdm\n",
    "\n",
    "def mapping(n, inverse=False):\n",
    "    mapping_dict = {'피스': 0, '터짐': 1, '곰팡이': 2, '들뜸': 3, '오염': 4, '창틀,문틀수정': 5, '면불량': 6, '걸레받이수정': 7, '몰딩수정': 8, '오타공': 9, '석고수정': 10, '이음부불량': 11, '꼬임': 12, '울음': 13, '틈새과다': 14, '훼손': 15, '가구수정': 16, '반점': 17, '녹오염': 18}\n",
    "    inverse_mapping = {v: k for k, v in mapping_dict.items()}\n",
    "    if inverse:\n",
    "        return inverse_mapping[n]\n",
    "    return mapping_dict[n]\n",
    "\n",
    "def imread_and_resize(img_path, size = (224, 224)):\n",
    "    image = Image.open(img_path)\n",
    "    image = image.resize((224, 224))\n",
    "    \n",
    "    return image\n",
    "\n",
    "def get_datasets(batch_size = 32):\n",
    "    img_path_list = glob.glob(\"../dataset/train/*/*.png\")\n",
    "    img_list = []\n",
    "    label_list = []\n",
    "    for path in tqdm(img_path_list):\n",
    "        img_list.append(imread_and_resize(path))\n",
    "        label_list.append(mapping(path.split('/')[3]))\n",
    "    images = jnp.stack([jnp.array(img) for img in img_list])\n",
    "    labels = jnp.array(label_list)\n",
    "    images.shape, labels.shape\n",
    "\n",
    "    from sklearn.model_selection import train_test_split\n",
    "\n",
    "\n",
    "    x_train, x_test, y_train, y_test = train_test_split(images, labels, test_size=0.2, random_state=42)\n",
    "    print(x_train.shape, y_train.shape)\n",
    "\n",
    "    train_ds = []\n",
    "    for i in range(np.ceil(x_train.shape[0] / 32).astype(np.int8)):\n",
    "        batch_start = i * 32\n",
    "        batch_end = (i+1) * 32\n",
    "        sub_dict = {\n",
    "            'image': x_train[batch_start:batch_end], \n",
    "            'label': y_train[batch_start:batch_end], \n",
    "        }\n",
    "        train_ds.append(sub_dict)\n",
    "\n",
    "    test_ds = []\n",
    "    for i in range(np.ceil(x_test.shape[0] / 32).astype(np.int8)):\n",
    "        batch_start = i * 32\n",
    "        batch_end = (i+1) * 32\n",
    "        sub_dict = {\n",
    "            'image': x_train[batch_start:batch_end], \n",
    "            'label': y_train[batch_start:batch_end], \n",
    "        }\n",
    "        test_ds.append(sub_dict)\n",
    "    print(len(train_ds), len(test_ds))\n",
    "    return train_ds, test_ds\n",
    "train_ds, test_ds = get_datasets()"
   ]
  },
  {
   "cell_type": "markdown",
   "id": "48b199fb",
   "metadata": {},
   "source": [
    "# 3. Define network"
   ]
  },
  {
   "cell_type": "code",
   "execution_count": 3,
   "id": "a3814092",
   "metadata": {},
   "outputs": [],
   "source": [
    "from flax import linen as nn  # Linen API\n",
    "\n",
    "from models import ResNet"
   ]
  },
  {
   "cell_type": "markdown",
   "id": "e48870dd",
   "metadata": {},
   "source": [
    "## View model layers"
   ]
  },
  {
   "cell_type": "code",
   "execution_count": 4,
   "id": "338d8377",
   "metadata": {},
   "outputs": [
    {
     "name": "stdout",
     "output_type": "stream",
     "text": [
      "\n",
      "\u001b[3m                                 ResNet Summary                                 \u001b[0m\n",
      "┏━━━━━━━━━━━━┳━━━━━━━━━━━━┳━━━━━━━━━━━━┳━━━━━━━━━━━━┳━━━━━━━━━━━━━┳━━━━━━━━━━━━┓\n",
      "┃\u001b[1m \u001b[0m\u001b[1mpath      \u001b[0m\u001b[1m \u001b[0m┃\u001b[1m \u001b[0m\u001b[1mmodule    \u001b[0m\u001b[1m \u001b[0m┃\u001b[1m \u001b[0m\u001b[1minputs    \u001b[0m\u001b[1m \u001b[0m┃\u001b[1m \u001b[0m\u001b[1moutputs   \u001b[0m\u001b[1m \u001b[0m┃\u001b[1m \u001b[0m\u001b[1mbatch_stats\u001b[0m\u001b[1m \u001b[0m┃\u001b[1m \u001b[0m\u001b[1mparams    \u001b[0m\u001b[1m \u001b[0m┃\n",
      "┡━━━━━━━━━━━━╇━━━━━━━━━━━━╇━━━━━━━━━━━━╇━━━━━━━━━━━━╇━━━━━━━━━━━━━╇━━━━━━━━━━━━┩\n",
      "│            │ ResNet     │ \u001b[2mfloat32\u001b[0m[1… │ \u001b[2mfloat32\u001b[0m[1… │             │            │\n",
      "├────────────┼────────────┼────────────┼────────────┼─────────────┼────────────┤\n",
      "│ Conv_0     │ Conv       │ \u001b[2mfloat32\u001b[0m[1… │ \u001b[2mfloat32\u001b[0m[1… │             │ kernel:    │\n",
      "│            │            │            │            │             │ \u001b[2mfloat32\u001b[0m[3… │\n",
      "│            │            │            │            │             │            │\n",
      "│            │            │            │            │             │ \u001b[1m432 \u001b[0m\u001b[1;2m(1.7 \u001b[0m  │\n",
      "│            │            │            │            │             │ \u001b[1;2mKB)\u001b[0m        │\n",
      "├────────────┼────────────┼────────────┼────────────┼─────────────┼────────────┤\n",
      "│ PreActRes… │ PreActRes… │ -          │ \u001b[2mfloat32\u001b[0m[1… │             │            │\n",
      "│            │            │ \u001b[2mfloat32\u001b[0m[1… │            │             │            │\n",
      "│            │            │ - train:   │            │             │            │\n",
      "│            │            │ True       │            │             │            │\n",
      "├────────────┼────────────┼────────────┼────────────┼─────────────┼────────────┤\n",
      "│ PreActRes… │ BatchNorm  │ -          │ \u001b[2mfloat32\u001b[0m[1… │ mean:       │ bias:      │\n",
      "│            │            │ \u001b[2mfloat32\u001b[0m[1… │            │ \u001b[2mfloat32\u001b[0m[16] │ \u001b[2mfloat32\u001b[0m[1… │\n",
      "│            │            │ -          │            │ var:        │ scale:     │\n",
      "│            │            │ use_runni… │            │ \u001b[2mfloat32\u001b[0m[16] │ \u001b[2mfloat32\u001b[0m[1… │\n",
      "│            │            │ False      │            │             │            │\n",
      "│            │            │            │            │ \u001b[1m32 \u001b[0m\u001b[1;2m(128 B)\u001b[0m  │ \u001b[1m32 \u001b[0m\u001b[1;2m(128 B)\u001b[0m │\n",
      "├────────────┼────────────┼────────────┼────────────┼─────────────┼────────────┤\n",
      "│ PreActRes… │ Conv       │ \u001b[2mfloat32\u001b[0m[1… │ \u001b[2mfloat32\u001b[0m[1… │             │ kernel:    │\n",
      "│            │            │            │            │             │ \u001b[2mfloat32\u001b[0m[3… │\n",
      "│            │            │            │            │             │            │\n",
      "│            │            │            │            │             │ \u001b[1m2,304 \u001b[0m\u001b[1;2m(9.2\u001b[0m │\n",
      "│            │            │            │            │             │ \u001b[1;2mKB)\u001b[0m        │\n",
      "├────────────┼────────────┼────────────┼────────────┼─────────────┼────────────┤\n",
      "│ PreActRes… │ BatchNorm  │ -          │ \u001b[2mfloat32\u001b[0m[1… │ mean:       │ bias:      │\n",
      "│            │            │ \u001b[2mfloat32\u001b[0m[1… │            │ \u001b[2mfloat32\u001b[0m[16] │ \u001b[2mfloat32\u001b[0m[1… │\n",
      "│            │            │ -          │            │ var:        │ scale:     │\n",
      "│            │            │ use_runni… │            │ \u001b[2mfloat32\u001b[0m[16] │ \u001b[2mfloat32\u001b[0m[1… │\n",
      "│            │            │ False      │            │             │            │\n",
      "│            │            │            │            │ \u001b[1m32 \u001b[0m\u001b[1;2m(128 B)\u001b[0m  │ \u001b[1m32 \u001b[0m\u001b[1;2m(128 B)\u001b[0m │\n",
      "├────────────┼────────────┼────────────┼────────────┼─────────────┼────────────┤\n",
      "│ PreActRes… │ Conv       │ \u001b[2mfloat32\u001b[0m[1… │ \u001b[2mfloat32\u001b[0m[1… │             │ kernel:    │\n",
      "│            │            │            │            │             │ \u001b[2mfloat32\u001b[0m[3… │\n",
      "│            │            │            │            │             │            │\n",
      "│            │            │            │            │             │ \u001b[1m2,304 \u001b[0m\u001b[1;2m(9.2\u001b[0m │\n",
      "│            │            │            │            │             │ \u001b[1;2mKB)\u001b[0m        │\n",
      "├────────────┼────────────┼────────────┼────────────┼─────────────┼────────────┤\n",
      "│ PreActRes… │ PreActRes… │ -          │ \u001b[2mfloat32\u001b[0m[1… │             │            │\n",
      "│            │            │ \u001b[2mfloat32\u001b[0m[1… │            │             │            │\n",
      "│            │            │ - train:   │            │             │            │\n",
      "│            │            │ True       │            │             │            │\n",
      "├────────────┼────────────┼────────────┼────────────┼─────────────┼────────────┤\n",
      "│ PreActRes… │ BatchNorm  │ -          │ \u001b[2mfloat32\u001b[0m[1… │ mean:       │ bias:      │\n",
      "│            │            │ \u001b[2mfloat32\u001b[0m[1… │            │ \u001b[2mfloat32\u001b[0m[16] │ \u001b[2mfloat32\u001b[0m[1… │\n",
      "│            │            │ -          │            │ var:        │ scale:     │\n",
      "│            │            │ use_runni… │            │ \u001b[2mfloat32\u001b[0m[16] │ \u001b[2mfloat32\u001b[0m[1… │\n",
      "│            │            │ False      │            │             │            │\n",
      "│            │            │            │            │ \u001b[1m32 \u001b[0m\u001b[1;2m(128 B)\u001b[0m  │ \u001b[1m32 \u001b[0m\u001b[1;2m(128 B)\u001b[0m │\n",
      "├────────────┼────────────┼────────────┼────────────┼─────────────┼────────────┤\n",
      "│ PreActRes… │ Conv       │ \u001b[2mfloat32\u001b[0m[1… │ \u001b[2mfloat32\u001b[0m[1… │             │ kernel:    │\n",
      "│            │            │            │            │             │ \u001b[2mfloat32\u001b[0m[3… │\n",
      "│            │            │            │            │             │            │\n",
      "│            │            │            │            │             │ \u001b[1m2,304 \u001b[0m\u001b[1;2m(9.2\u001b[0m │\n",
      "│            │            │            │            │             │ \u001b[1;2mKB)\u001b[0m        │\n",
      "├────────────┼────────────┼────────────┼────────────┼─────────────┼────────────┤\n",
      "│ PreActRes… │ BatchNorm  │ -          │ \u001b[2mfloat32\u001b[0m[1… │ mean:       │ bias:      │\n",
      "│            │            │ \u001b[2mfloat32\u001b[0m[1… │            │ \u001b[2mfloat32\u001b[0m[16] │ \u001b[2mfloat32\u001b[0m[1… │\n",
      "│            │            │ -          │            │ var:        │ scale:     │\n",
      "│            │            │ use_runni… │            │ \u001b[2mfloat32\u001b[0m[16] │ \u001b[2mfloat32\u001b[0m[1… │\n",
      "│            │            │ False      │            │             │            │\n",
      "│            │            │            │            │ \u001b[1m32 \u001b[0m\u001b[1;2m(128 B)\u001b[0m  │ \u001b[1m32 \u001b[0m\u001b[1;2m(128 B)\u001b[0m │\n",
      "├────────────┼────────────┼────────────┼────────────┼─────────────┼────────────┤\n",
      "│ PreActRes… │ Conv       │ \u001b[2mfloat32\u001b[0m[1… │ \u001b[2mfloat32\u001b[0m[1… │             │ kernel:    │\n",
      "│            │            │            │            │             │ \u001b[2mfloat32\u001b[0m[3… │\n",
      "│            │            │            │            │             │            │\n",
      "│            │            │            │            │             │ \u001b[1m2,304 \u001b[0m\u001b[1;2m(9.2\u001b[0m │\n",
      "│            │            │            │            │             │ \u001b[1;2mKB)\u001b[0m        │\n",
      "├────────────┼────────────┼────────────┼────────────┼─────────────┼────────────┤\n",
      "│ PreActRes… │ PreActRes… │ -          │ \u001b[2mfloat32\u001b[0m[1… │             │            │\n",
      "│            │            │ \u001b[2mfloat32\u001b[0m[1… │            │             │            │\n",
      "│            │            │ - train:   │            │             │            │\n",
      "│            │            │ True       │            │             │            │\n",
      "├────────────┼────────────┼────────────┼────────────┼─────────────┼────────────┤\n",
      "│ PreActRes… │ BatchNorm  │ -          │ \u001b[2mfloat32\u001b[0m[1… │ mean:       │ bias:      │\n",
      "│            │            │ \u001b[2mfloat32\u001b[0m[1… │            │ \u001b[2mfloat32\u001b[0m[16] │ \u001b[2mfloat32\u001b[0m[1… │\n",
      "│            │            │ -          │            │ var:        │ scale:     │\n",
      "│            │            │ use_runni… │            │ \u001b[2mfloat32\u001b[0m[16] │ \u001b[2mfloat32\u001b[0m[1… │\n",
      "│            │            │ False      │            │             │            │\n",
      "│            │            │            │            │ \u001b[1m32 \u001b[0m\u001b[1;2m(128 B)\u001b[0m  │ \u001b[1m32 \u001b[0m\u001b[1;2m(128 B)\u001b[0m │\n",
      "├────────────┼────────────┼────────────┼────────────┼─────────────┼────────────┤\n",
      "│ PreActRes… │ Conv       │ \u001b[2mfloat32\u001b[0m[1… │ \u001b[2mfloat32\u001b[0m[1… │             │ kernel:    │\n",
      "│            │            │            │            │             │ \u001b[2mfloat32\u001b[0m[3… │\n",
      "│            │            │            │            │             │            │\n",
      "│            │            │            │            │             │ \u001b[1m2,304 \u001b[0m\u001b[1;2m(9.2\u001b[0m │\n",
      "│            │            │            │            │             │ \u001b[1;2mKB)\u001b[0m        │\n",
      "├────────────┼────────────┼────────────┼────────────┼─────────────┼────────────┤\n",
      "│ PreActRes… │ BatchNorm  │ -          │ \u001b[2mfloat32\u001b[0m[1… │ mean:       │ bias:      │\n",
      "│            │            │ \u001b[2mfloat32\u001b[0m[1… │            │ \u001b[2mfloat32\u001b[0m[16] │ \u001b[2mfloat32\u001b[0m[1… │\n",
      "│            │            │ -          │            │ var:        │ scale:     │\n",
      "│            │            │ use_runni… │            │ \u001b[2mfloat32\u001b[0m[16] │ \u001b[2mfloat32\u001b[0m[1… │\n",
      "│            │            │ False      │            │             │            │\n",
      "│            │            │            │            │ \u001b[1m32 \u001b[0m\u001b[1;2m(128 B)\u001b[0m  │ \u001b[1m32 \u001b[0m\u001b[1;2m(128 B)\u001b[0m │\n",
      "├────────────┼────────────┼────────────┼────────────┼─────────────┼────────────┤\n",
      "│ PreActRes… │ Conv       │ \u001b[2mfloat32\u001b[0m[1… │ \u001b[2mfloat32\u001b[0m[1… │             │ kernel:    │\n",
      "│            │            │            │            │             │ \u001b[2mfloat32\u001b[0m[3… │\n",
      "│            │            │            │            │             │            │\n",
      "│            │            │            │            │             │ \u001b[1m2,304 \u001b[0m\u001b[1;2m(9.2\u001b[0m │\n",
      "│            │            │            │            │             │ \u001b[1;2mKB)\u001b[0m        │\n",
      "├────────────┼────────────┼────────────┼────────────┼─────────────┼────────────┤\n",
      "│ PreActRes… │ PreActRes… │ -          │ \u001b[2mfloat32\u001b[0m[1… │             │            │\n",
      "│            │            │ \u001b[2mfloat32\u001b[0m[1… │            │             │            │\n",
      "│            │            │ - train:   │            │             │            │\n",
      "│            │            │ True       │            │             │            │\n",
      "├────────────┼────────────┼────────────┼────────────┼─────────────┼────────────┤\n",
      "│ PreActRes… │ BatchNorm  │ -          │ \u001b[2mfloat32\u001b[0m[1… │ mean:       │ bias:      │\n",
      "│            │            │ \u001b[2mfloat32\u001b[0m[1… │            │ \u001b[2mfloat32\u001b[0m[16] │ \u001b[2mfloat32\u001b[0m[1… │\n",
      "│            │            │ -          │            │ var:        │ scale:     │\n",
      "│            │            │ use_runni… │            │ \u001b[2mfloat32\u001b[0m[16] │ \u001b[2mfloat32\u001b[0m[1… │\n",
      "│            │            │ False      │            │             │            │\n",
      "│            │            │            │            │ \u001b[1m32 \u001b[0m\u001b[1;2m(128 B)\u001b[0m  │ \u001b[1m32 \u001b[0m\u001b[1;2m(128 B)\u001b[0m │\n",
      "├────────────┼────────────┼────────────┼────────────┼─────────────┼────────────┤\n",
      "│ PreActRes… │ Conv       │ \u001b[2mfloat32\u001b[0m[1… │ \u001b[2mfloat32\u001b[0m[1… │             │ kernel:    │\n",
      "│            │            │            │            │             │ \u001b[2mfloat32\u001b[0m[3… │\n",
      "│            │            │            │            │             │            │\n",
      "│            │            │            │            │             │ \u001b[1m4,608 \u001b[0m     │\n",
      "│            │            │            │            │             │ \u001b[1;2m(18.4 KB)\u001b[0m  │\n",
      "├────────────┼────────────┼────────────┼────────────┼─────────────┼────────────┤\n",
      "│ PreActRes… │ BatchNorm  │ -          │ \u001b[2mfloat32\u001b[0m[1… │ mean:       │ bias:      │\n",
      "│            │            │ \u001b[2mfloat32\u001b[0m[1… │            │ \u001b[2mfloat32\u001b[0m[32] │ \u001b[2mfloat32\u001b[0m[3… │\n",
      "│            │            │ -          │            │ var:        │ scale:     │\n",
      "│            │            │ use_runni… │            │ \u001b[2mfloat32\u001b[0m[32] │ \u001b[2mfloat32\u001b[0m[3… │\n",
      "│            │            │ False      │            │             │            │\n",
      "│            │            │            │            │ \u001b[1m64 \u001b[0m\u001b[1;2m(256 B)\u001b[0m  │ \u001b[1m64 \u001b[0m\u001b[1;2m(256 B)\u001b[0m │\n",
      "├────────────┼────────────┼────────────┼────────────┼─────────────┼────────────┤\n",
      "│ PreActRes… │ Conv       │ \u001b[2mfloat32\u001b[0m[1… │ \u001b[2mfloat32\u001b[0m[1… │             │ kernel:    │\n",
      "│            │            │            │            │             │ \u001b[2mfloat32\u001b[0m[3… │\n",
      "│            │            │            │            │             │            │\n",
      "│            │            │            │            │             │ \u001b[1m9,216 \u001b[0m     │\n",
      "│            │            │            │            │             │ \u001b[1;2m(36.9 KB)\u001b[0m  │\n",
      "├────────────┼────────────┼────────────┼────────────┼─────────────┼────────────┤\n",
      "│ PreActRes… │ BatchNorm  │ -          │ \u001b[2mfloat32\u001b[0m[1… │ mean:       │ bias:      │\n",
      "│            │            │ \u001b[2mfloat32\u001b[0m[1… │            │ \u001b[2mfloat32\u001b[0m[16] │ \u001b[2mfloat32\u001b[0m[1… │\n",
      "│            │            │ -          │            │ var:        │ scale:     │\n",
      "│            │            │ use_runni… │            │ \u001b[2mfloat32\u001b[0m[16] │ \u001b[2mfloat32\u001b[0m[1… │\n",
      "│            │            │ False      │            │             │            │\n",
      "│            │            │            │            │ \u001b[1m32 \u001b[0m\u001b[1;2m(128 B)\u001b[0m  │ \u001b[1m32 \u001b[0m\u001b[1;2m(128 B)\u001b[0m │\n",
      "├────────────┼────────────┼────────────┼────────────┼─────────────┼────────────┤\n",
      "│ PreActRes… │ Conv       │ \u001b[2mfloat32\u001b[0m[1… │ \u001b[2mfloat32\u001b[0m[1… │             │ kernel:    │\n",
      "│            │            │            │            │             │ \u001b[2mfloat32\u001b[0m[1… │\n",
      "│            │            │            │            │             │            │\n",
      "│            │            │            │            │             │ \u001b[1m512 \u001b[0m\u001b[1;2m(2.0 \u001b[0m  │\n",
      "│            │            │            │            │             │ \u001b[1;2mKB)\u001b[0m        │\n",
      "├────────────┼────────────┼────────────┼────────────┼─────────────┼────────────┤\n",
      "│ PreActRes… │ PreActRes… │ -          │ \u001b[2mfloat32\u001b[0m[1… │             │            │\n",
      "│            │            │ \u001b[2mfloat32\u001b[0m[1… │            │             │            │\n",
      "│            │            │ - train:   │            │             │            │\n",
      "│            │            │ True       │            │             │            │\n",
      "├────────────┼────────────┼────────────┼────────────┼─────────────┼────────────┤\n",
      "│ PreActRes… │ BatchNorm  │ -          │ \u001b[2mfloat32\u001b[0m[1… │ mean:       │ bias:      │\n",
      "│            │            │ \u001b[2mfloat32\u001b[0m[1… │            │ \u001b[2mfloat32\u001b[0m[32] │ \u001b[2mfloat32\u001b[0m[3… │\n",
      "│            │            │ -          │            │ var:        │ scale:     │\n",
      "│            │            │ use_runni… │            │ \u001b[2mfloat32\u001b[0m[32] │ \u001b[2mfloat32\u001b[0m[3… │\n",
      "│            │            │ False      │            │             │            │\n",
      "│            │            │            │            │ \u001b[1m64 \u001b[0m\u001b[1;2m(256 B)\u001b[0m  │ \u001b[1m64 \u001b[0m\u001b[1;2m(256 B)\u001b[0m │\n",
      "├────────────┼────────────┼────────────┼────────────┼─────────────┼────────────┤\n",
      "│ PreActRes… │ Conv       │ \u001b[2mfloat32\u001b[0m[1… │ \u001b[2mfloat32\u001b[0m[1… │             │ kernel:    │\n",
      "│            │            │            │            │             │ \u001b[2mfloat32\u001b[0m[3… │\n",
      "│            │            │            │            │             │            │\n",
      "│            │            │            │            │             │ \u001b[1m9,216 \u001b[0m     │\n",
      "│            │            │            │            │             │ \u001b[1;2m(36.9 KB)\u001b[0m  │\n",
      "├────────────┼────────────┼────────────┼────────────┼─────────────┼────────────┤\n",
      "│ PreActRes… │ BatchNorm  │ -          │ \u001b[2mfloat32\u001b[0m[1… │ mean:       │ bias:      │\n",
      "│            │            │ \u001b[2mfloat32\u001b[0m[1… │            │ \u001b[2mfloat32\u001b[0m[32] │ \u001b[2mfloat32\u001b[0m[3… │\n",
      "│            │            │ -          │            │ var:        │ scale:     │\n",
      "│            │            │ use_runni… │            │ \u001b[2mfloat32\u001b[0m[32] │ \u001b[2mfloat32\u001b[0m[3… │\n",
      "│            │            │ False      │            │             │            │\n",
      "│            │            │            │            │ \u001b[1m64 \u001b[0m\u001b[1;2m(256 B)\u001b[0m  │ \u001b[1m64 \u001b[0m\u001b[1;2m(256 B)\u001b[0m │\n",
      "├────────────┼────────────┼────────────┼────────────┼─────────────┼────────────┤\n",
      "│ PreActRes… │ Conv       │ \u001b[2mfloat32\u001b[0m[1… │ \u001b[2mfloat32\u001b[0m[1… │             │ kernel:    │\n",
      "│            │            │            │            │             │ \u001b[2mfloat32\u001b[0m[3… │\n",
      "│            │            │            │            │             │            │\n",
      "│            │            │            │            │             │ \u001b[1m9,216 \u001b[0m     │\n",
      "│            │            │            │            │             │ \u001b[1;2m(36.9 KB)\u001b[0m  │\n",
      "├────────────┼────────────┼────────────┼────────────┼─────────────┼────────────┤\n",
      "│ PreActRes… │ PreActRes… │ -          │ \u001b[2mfloat32\u001b[0m[1… │             │            │\n",
      "│            │            │ \u001b[2mfloat32\u001b[0m[1… │            │             │            │\n",
      "│            │            │ - train:   │            │             │            │\n",
      "│            │            │ True       │            │             │            │\n",
      "├────────────┼────────────┼────────────┼────────────┼─────────────┼────────────┤\n",
      "│ PreActRes… │ BatchNorm  │ -          │ \u001b[2mfloat32\u001b[0m[1… │ mean:       │ bias:      │\n",
      "│            │            │ \u001b[2mfloat32\u001b[0m[1… │            │ \u001b[2mfloat32\u001b[0m[32] │ \u001b[2mfloat32\u001b[0m[3… │\n",
      "│            │            │ -          │            │ var:        │ scale:     │\n",
      "│            │            │ use_runni… │            │ \u001b[2mfloat32\u001b[0m[32] │ \u001b[2mfloat32\u001b[0m[3… │\n",
      "│            │            │ False      │            │             │            │\n",
      "│            │            │            │            │ \u001b[1m64 \u001b[0m\u001b[1;2m(256 B)\u001b[0m  │ \u001b[1m64 \u001b[0m\u001b[1;2m(256 B)\u001b[0m │\n",
      "├────────────┼────────────┼────────────┼────────────┼─────────────┼────────────┤\n",
      "│ PreActRes… │ Conv       │ \u001b[2mfloat32\u001b[0m[1… │ \u001b[2mfloat32\u001b[0m[1… │             │ kernel:    │\n",
      "│            │            │            │            │             │ \u001b[2mfloat32\u001b[0m[3… │\n",
      "│            │            │            │            │             │            │\n",
      "│            │            │            │            │             │ \u001b[1m9,216 \u001b[0m     │\n",
      "│            │            │            │            │             │ \u001b[1;2m(36.9 KB)\u001b[0m  │\n",
      "├────────────┼────────────┼────────────┼────────────┼─────────────┼────────────┤\n",
      "│ PreActRes… │ BatchNorm  │ -          │ \u001b[2mfloat32\u001b[0m[1… │ mean:       │ bias:      │\n",
      "│            │            │ \u001b[2mfloat32\u001b[0m[1… │            │ \u001b[2mfloat32\u001b[0m[32] │ \u001b[2mfloat32\u001b[0m[3… │\n",
      "│            │            │ -          │            │ var:        │ scale:     │\n",
      "│            │            │ use_runni… │            │ \u001b[2mfloat32\u001b[0m[32] │ \u001b[2mfloat32\u001b[0m[3… │\n",
      "│            │            │ False      │            │             │            │\n",
      "│            │            │            │            │ \u001b[1m64 \u001b[0m\u001b[1;2m(256 B)\u001b[0m  │ \u001b[1m64 \u001b[0m\u001b[1;2m(256 B)\u001b[0m │\n",
      "├────────────┼────────────┼────────────┼────────────┼─────────────┼────────────┤\n",
      "│ PreActRes… │ Conv       │ \u001b[2mfloat32\u001b[0m[1… │ \u001b[2mfloat32\u001b[0m[1… │             │ kernel:    │\n",
      "│            │            │            │            │             │ \u001b[2mfloat32\u001b[0m[3… │\n",
      "│            │            │            │            │             │            │\n",
      "│            │            │            │            │             │ \u001b[1m9,216 \u001b[0m     │\n",
      "│            │            │            │            │             │ \u001b[1;2m(36.9 KB)\u001b[0m  │\n",
      "├────────────┼────────────┼────────────┼────────────┼─────────────┼────────────┤\n",
      "│ PreActRes… │ PreActRes… │ -          │ \u001b[2mfloat32\u001b[0m[1… │             │            │\n",
      "│            │            │ \u001b[2mfloat32\u001b[0m[1… │            │             │            │\n",
      "│            │            │ - train:   │            │             │            │\n",
      "│            │            │ True       │            │             │            │\n",
      "├────────────┼────────────┼────────────┼────────────┼─────────────┼────────────┤\n",
      "│ PreActRes… │ BatchNorm  │ -          │ \u001b[2mfloat32\u001b[0m[1… │ mean:       │ bias:      │\n",
      "│            │            │ \u001b[2mfloat32\u001b[0m[1… │            │ \u001b[2mfloat32\u001b[0m[32] │ \u001b[2mfloat32\u001b[0m[3… │\n",
      "│            │            │ -          │            │ var:        │ scale:     │\n",
      "│            │            │ use_runni… │            │ \u001b[2mfloat32\u001b[0m[32] │ \u001b[2mfloat32\u001b[0m[3… │\n",
      "│            │            │ False      │            │             │            │\n",
      "│            │            │            │            │ \u001b[1m64 \u001b[0m\u001b[1;2m(256 B)\u001b[0m  │ \u001b[1m64 \u001b[0m\u001b[1;2m(256 B)\u001b[0m │\n",
      "├────────────┼────────────┼────────────┼────────────┼─────────────┼────────────┤\n",
      "│ PreActRes… │ Conv       │ \u001b[2mfloat32\u001b[0m[1… │ \u001b[2mfloat32\u001b[0m[1… │             │ kernel:    │\n",
      "│            │            │            │            │             │ \u001b[2mfloat32\u001b[0m[3… │\n",
      "│            │            │            │            │             │            │\n",
      "│            │            │            │            │             │ \u001b[1m18,432 \u001b[0m    │\n",
      "│            │            │            │            │             │ \u001b[1;2m(73.7 KB)\u001b[0m  │\n",
      "├────────────┼────────────┼────────────┼────────────┼─────────────┼────────────┤\n",
      "│ PreActRes… │ BatchNorm  │ -          │ \u001b[2mfloat32\u001b[0m[1… │ mean:       │ bias:      │\n",
      "│            │            │ \u001b[2mfloat32\u001b[0m[1… │            │ \u001b[2mfloat32\u001b[0m[64] │ \u001b[2mfloat32\u001b[0m[6… │\n",
      "│            │            │ -          │            │ var:        │ scale:     │\n",
      "│            │            │ use_runni… │            │ \u001b[2mfloat32\u001b[0m[64] │ \u001b[2mfloat32\u001b[0m[6… │\n",
      "│            │            │ False      │            │             │            │\n",
      "│            │            │            │            │ \u001b[1m128 \u001b[0m\u001b[1;2m(512 B)\u001b[0m │ \u001b[1m128 \u001b[0m\u001b[1;2m(512 \u001b[0m  │\n",
      "│            │            │            │            │             │ \u001b[1;2mB)\u001b[0m         │\n",
      "├────────────┼────────────┼────────────┼────────────┼─────────────┼────────────┤\n",
      "│ PreActRes… │ Conv       │ \u001b[2mfloat32\u001b[0m[1… │ \u001b[2mfloat32\u001b[0m[1… │             │ kernel:    │\n",
      "│            │            │            │            │             │ \u001b[2mfloat32\u001b[0m[3… │\n",
      "│            │            │            │            │             │            │\n",
      "│            │            │            │            │             │ \u001b[1m36,864 \u001b[0m    │\n",
      "│            │            │            │            │             │ \u001b[1;2m(147.5 KB)\u001b[0m │\n",
      "├────────────┼────────────┼────────────┼────────────┼─────────────┼────────────┤\n",
      "│ PreActRes… │ BatchNorm  │ -          │ \u001b[2mfloat32\u001b[0m[1… │ mean:       │ bias:      │\n",
      "│            │            │ \u001b[2mfloat32\u001b[0m[1… │            │ \u001b[2mfloat32\u001b[0m[32] │ \u001b[2mfloat32\u001b[0m[3… │\n",
      "│            │            │ -          │            │ var:        │ scale:     │\n",
      "│            │            │ use_runni… │            │ \u001b[2mfloat32\u001b[0m[32] │ \u001b[2mfloat32\u001b[0m[3… │\n",
      "│            │            │ False      │            │             │            │\n",
      "│            │            │            │            │ \u001b[1m64 \u001b[0m\u001b[1;2m(256 B)\u001b[0m  │ \u001b[1m64 \u001b[0m\u001b[1;2m(256 B)\u001b[0m │\n",
      "├────────────┼────────────┼────────────┼────────────┼─────────────┼────────────┤\n",
      "│ PreActRes… │ Conv       │ \u001b[2mfloat32\u001b[0m[1… │ \u001b[2mfloat32\u001b[0m[1… │             │ kernel:    │\n",
      "│            │            │            │            │             │ \u001b[2mfloat32\u001b[0m[1… │\n",
      "│            │            │            │            │             │            │\n",
      "│            │            │            │            │             │ \u001b[1m2,048 \u001b[0m\u001b[1;2m(8.2\u001b[0m │\n",
      "│            │            │            │            │             │ \u001b[1;2mKB)\u001b[0m        │\n",
      "├────────────┼────────────┼────────────┼────────────┼─────────────┼────────────┤\n",
      "│ PreActRes… │ PreActRes… │ -          │ \u001b[2mfloat32\u001b[0m[1… │             │            │\n",
      "│            │            │ \u001b[2mfloat32\u001b[0m[1… │            │             │            │\n",
      "│            │            │ - train:   │            │             │            │\n",
      "│            │            │ True       │            │             │            │\n",
      "├────────────┼────────────┼────────────┼────────────┼─────────────┼────────────┤\n",
      "│ PreActRes… │ BatchNorm  │ -          │ \u001b[2mfloat32\u001b[0m[1… │ mean:       │ bias:      │\n",
      "│            │            │ \u001b[2mfloat32\u001b[0m[1… │            │ \u001b[2mfloat32\u001b[0m[64] │ \u001b[2mfloat32\u001b[0m[6… │\n",
      "│            │            │ -          │            │ var:        │ scale:     │\n",
      "│            │            │ use_runni… │            │ \u001b[2mfloat32\u001b[0m[64] │ \u001b[2mfloat32\u001b[0m[6… │\n",
      "│            │            │ False      │            │             │            │\n",
      "│            │            │            │            │ \u001b[1m128 \u001b[0m\u001b[1;2m(512 B)\u001b[0m │ \u001b[1m128 \u001b[0m\u001b[1;2m(512 \u001b[0m  │\n",
      "│            │            │            │            │             │ \u001b[1;2mB)\u001b[0m         │\n",
      "├────────────┼────────────┼────────────┼────────────┼─────────────┼────────────┤\n",
      "│ PreActRes… │ Conv       │ \u001b[2mfloat32\u001b[0m[1… │ \u001b[2mfloat32\u001b[0m[1… │             │ kernel:    │\n",
      "│            │            │            │            │             │ \u001b[2mfloat32\u001b[0m[3… │\n",
      "│            │            │            │            │             │            │\n",
      "│            │            │            │            │             │ \u001b[1m36,864 \u001b[0m    │\n",
      "│            │            │            │            │             │ \u001b[1;2m(147.5 KB)\u001b[0m │\n",
      "├────────────┼────────────┼────────────┼────────────┼─────────────┼────────────┤\n",
      "│ PreActRes… │ BatchNorm  │ -          │ \u001b[2mfloat32\u001b[0m[1… │ mean:       │ bias:      │\n",
      "│            │            │ \u001b[2mfloat32\u001b[0m[1… │            │ \u001b[2mfloat32\u001b[0m[64] │ \u001b[2mfloat32\u001b[0m[6… │\n",
      "│            │            │ -          │            │ var:        │ scale:     │\n",
      "│            │            │ use_runni… │            │ \u001b[2mfloat32\u001b[0m[64] │ \u001b[2mfloat32\u001b[0m[6… │\n",
      "│            │            │ False      │            │             │            │\n",
      "│            │            │            │            │ \u001b[1m128 \u001b[0m\u001b[1;2m(512 B)\u001b[0m │ \u001b[1m128 \u001b[0m\u001b[1;2m(512 \u001b[0m  │\n",
      "│            │            │            │            │             │ \u001b[1;2mB)\u001b[0m         │\n",
      "├────────────┼────────────┼────────────┼────────────┼─────────────┼────────────┤\n",
      "│ PreActRes… │ Conv       │ \u001b[2mfloat32\u001b[0m[1… │ \u001b[2mfloat32\u001b[0m[1… │             │ kernel:    │\n",
      "│            │            │            │            │             │ \u001b[2mfloat32\u001b[0m[3… │\n",
      "│            │            │            │            │             │            │\n",
      "│            │            │            │            │             │ \u001b[1m36,864 \u001b[0m    │\n",
      "│            │            │            │            │             │ \u001b[1;2m(147.5 KB)\u001b[0m │\n",
      "├────────────┼────────────┼────────────┼────────────┼─────────────┼────────────┤\n",
      "│ PreActRes… │ PreActRes… │ -          │ \u001b[2mfloat32\u001b[0m[1… │             │            │\n",
      "│            │            │ \u001b[2mfloat32\u001b[0m[1… │            │             │            │\n",
      "│            │            │ - train:   │            │             │            │\n",
      "│            │            │ True       │            │             │            │\n",
      "├────────────┼────────────┼────────────┼────────────┼─────────────┼────────────┤\n",
      "│ PreActRes… │ BatchNorm  │ -          │ \u001b[2mfloat32\u001b[0m[1… │ mean:       │ bias:      │\n",
      "│            │            │ \u001b[2mfloat32\u001b[0m[1… │            │ \u001b[2mfloat32\u001b[0m[64] │ \u001b[2mfloat32\u001b[0m[6… │\n",
      "│            │            │ -          │            │ var:        │ scale:     │\n",
      "│            │            │ use_runni… │            │ \u001b[2mfloat32\u001b[0m[64] │ \u001b[2mfloat32\u001b[0m[6… │\n",
      "│            │            │ False      │            │             │            │\n",
      "│            │            │            │            │ \u001b[1m128 \u001b[0m\u001b[1;2m(512 B)\u001b[0m │ \u001b[1m128 \u001b[0m\u001b[1;2m(512 \u001b[0m  │\n",
      "│            │            │            │            │             │ \u001b[1;2mB)\u001b[0m         │\n",
      "├────────────┼────────────┼────────────┼────────────┼─────────────┼────────────┤\n",
      "│ PreActRes… │ Conv       │ \u001b[2mfloat32\u001b[0m[1… │ \u001b[2mfloat32\u001b[0m[1… │             │ kernel:    │\n",
      "│            │            │            │            │             │ \u001b[2mfloat32\u001b[0m[3… │\n",
      "│            │            │            │            │             │            │\n",
      "│            │            │            │            │             │ \u001b[1m36,864 \u001b[0m    │\n",
      "│            │            │            │            │             │ \u001b[1;2m(147.5 KB)\u001b[0m │\n",
      "├────────────┼────────────┼────────────┼────────────┼─────────────┼────────────┤\n",
      "│ PreActRes… │ BatchNorm  │ -          │ \u001b[2mfloat32\u001b[0m[1… │ mean:       │ bias:      │\n",
      "│            │            │ \u001b[2mfloat32\u001b[0m[1… │            │ \u001b[2mfloat32\u001b[0m[64] │ \u001b[2mfloat32\u001b[0m[6… │\n",
      "│            │            │ -          │            │ var:        │ scale:     │\n",
      "│            │            │ use_runni… │            │ \u001b[2mfloat32\u001b[0m[64] │ \u001b[2mfloat32\u001b[0m[6… │\n",
      "│            │            │ False      │            │             │            │\n",
      "│            │            │            │            │ \u001b[1m128 \u001b[0m\u001b[1;2m(512 B)\u001b[0m │ \u001b[1m128 \u001b[0m\u001b[1;2m(512 \u001b[0m  │\n",
      "│            │            │            │            │             │ \u001b[1;2mB)\u001b[0m         │\n",
      "├────────────┼────────────┼────────────┼────────────┼─────────────┼────────────┤\n",
      "│ PreActRes… │ Conv       │ \u001b[2mfloat32\u001b[0m[1… │ \u001b[2mfloat32\u001b[0m[1… │             │ kernel:    │\n",
      "│            │            │            │            │             │ \u001b[2mfloat32\u001b[0m[3… │\n",
      "│            │            │            │            │             │            │\n",
      "│            │            │            │            │             │ \u001b[1m36,864 \u001b[0m    │\n",
      "│            │            │            │            │             │ \u001b[1;2m(147.5 KB)\u001b[0m │\n",
      "├────────────┼────────────┼────────────┼────────────┼─────────────┼────────────┤\n",
      "│ Dense_0    │ Dense      │ \u001b[2mfloat32\u001b[0m[1… │ \u001b[2mfloat32\u001b[0m[1… │             │ bias:      │\n",
      "│            │            │            │            │             │ \u001b[2mfloat32\u001b[0m[1… │\n",
      "│            │            │            │            │             │ kernel:    │\n",
      "│            │            │            │            │             │ \u001b[2mfloat32\u001b[0m[6… │\n",
      "│            │            │            │            │             │            │\n",
      "│            │            │            │            │             │ \u001b[1m1,235 \u001b[0m\u001b[1;2m(4.9\u001b[0m │\n",
      "│            │            │            │            │             │ \u001b[1;2mKB)\u001b[0m        │\n",
      "├────────────┼────────────┼────────────┼────────────┼─────────────┼────────────┤\n",
      "│\u001b[1m \u001b[0m\u001b[1m          \u001b[0m\u001b[1m \u001b[0m│\u001b[1m \u001b[0m\u001b[1m          \u001b[0m\u001b[1m \u001b[0m│\u001b[1m \u001b[0m\u001b[1m          \u001b[0m\u001b[1m \u001b[0m│\u001b[1m \u001b[0m\u001b[1m     Total\u001b[0m\u001b[1m \u001b[0m│\u001b[1m \u001b[0m\u001b[1m1,344 \u001b[0m\u001b[1;2m(5.4 \u001b[0m\u001b[1m \u001b[0m│\u001b[1m \u001b[0m\u001b[1m272,835   \u001b[0m\u001b[1m \u001b[0m│\n",
      "│\u001b[1m            \u001b[0m│\u001b[1m            \u001b[0m│\u001b[1m            \u001b[0m│\u001b[1m            \u001b[0m│\u001b[1m \u001b[0m\u001b[1;2mKB)\u001b[0m\u001b[1m        \u001b[0m\u001b[1m \u001b[0m│\u001b[1m \u001b[0m\u001b[1;2m(1.1 MB)\u001b[0m\u001b[1m  \u001b[0m\u001b[1m \u001b[0m│\n",
      "└────────────┴────────────┴────────────┴────────────┴─────────────┴────────────┘\n",
      "\u001b[1m                                                                                \u001b[0m\n",
      "\u001b[1m                       Total Parameters: 274,179 \u001b[0m\u001b[1;2m(1.1 MB)\u001b[0m\u001b[1m                       \u001b[0m\n",
      "\n",
      "\n"
     ]
    }
   ],
   "source": [
    "import jax\n",
    "import jax.numpy as jnp  # JAX NumPy\n",
    "\n",
    "cnn = ResNet(num_classes=19)\n",
    "print(cnn.tabulate(jax.random.PRNGKey(0), jnp.ones((1, 224, 224, 3))))"
   ]
  },
  {
   "cell_type": "markdown",
   "id": "df68f0f4",
   "metadata": {},
   "source": [
    "# 4. Create a TrainState"
   ]
  },
  {
   "cell_type": "code",
   "execution_count": 5,
   "id": "77ff3a8b",
   "metadata": {},
   "outputs": [],
   "source": [
    "from clu import metrics\n",
    "from flax.training import train_state  # Useful dataclass to keep train state\n",
    "from flax import struct                # Flax dataclasses\n",
    "import optax                           # Common loss functions and optimizers"
   ]
  },
  {
   "cell_type": "code",
   "execution_count": 6,
   "id": "4ab01d4b",
   "metadata": {},
   "outputs": [],
   "source": [
    "@struct.dataclass\n",
    "class Metrics(metrics.Collection):\n",
    "    accuracy: metrics.Accuracy\n",
    "    loss: metrics.Average.from_output('loss')"
   ]
  },
  {
   "cell_type": "code",
   "execution_count": 7,
   "id": "6e7750da",
   "metadata": {},
   "outputs": [],
   "source": [
    "class TrainState(train_state.TrainState):\n",
    "    metrics: Metrics\n",
    "    batch_stats: Any\n",
    "\n",
    "def create_train_state(module, rng, learning_rate, momentum):\n",
    "    \"\"\"Creates an initial `TrainState`.\"\"\"\n",
    "    vars_in = module.init(rng, jnp.ones([1, 224, 224, 3]), train=False) # initialize parameters by passing a template image\n",
    "#     parm\n",
    "    tx = optax.sgd(learning_rate, momentum)\n",
    "    return TrainState.create(\n",
    "        apply_fn=module.apply, \n",
    "        params=vars_in['params'], \n",
    "        batch_stats=vars_in['batch_stats'], \n",
    "        tx=tx,\n",
    "        metrics=Metrics.empty())"
   ]
  },
  {
   "cell_type": "markdown",
   "id": "1469be2e",
   "metadata": {},
   "source": [
    "# 5. Training step"
   ]
  },
  {
   "cell_type": "code",
   "execution_count": 8,
   "id": "cf15bd49",
   "metadata": {},
   "outputs": [],
   "source": [
    "@jax.jit\n",
    "def train_step(state: TrainState, batch):\n",
    "    \"\"\"Train for a single step.\"\"\"\n",
    "    def loss_fn(params):\n",
    "        logits, updates = state.apply_fn(\n",
    "            {'params': params, 'batch_stats': state.batch_stats},\n",
    "            x=batch['image'], \n",
    "            train=True, \n",
    "            mutable=['batch_stats']\n",
    "        )\n",
    "        \n",
    "        loss = optax.softmax_cross_entropy_with_integer_labels(\n",
    "            logits=logits, labels=batch['label']).mean()\n",
    "        return loss, (logits, updates)\n",
    "    \n",
    "    grad_fn = jax.value_and_grad(loss_fn, has_aux=True)\n",
    "    (loss, (logits, updates)), grads = grad_fn(state.params)\n",
    "    state = state.apply_gradients(grads=grads)\n",
    "    state = state.replace(batch_stats=updates['batch_stats'])\n",
    "    metrics = {\n",
    "        'train_loss': loss,\n",
    "        'train_accuracy': jnp.mean(jnp.argmax(logits, -1) == batch['label']),\n",
    "    }\n",
    "    return state, metrics"
   ]
  },
  {
   "cell_type": "code",
   "execution_count": 9,
   "id": "438db7e5",
   "metadata": {},
   "outputs": [],
   "source": [
    "@jax.jit\n",
    "def eval_step(state: TrainState, batch):\n",
    "    \"\"\"Train for a single step.\"\"\"\n",
    "    logits = state.apply_fn(\n",
    "        {'params': state.params, 'batch_stats': state.batch_stats},\n",
    "        x=batch['image'], \n",
    "        train=False)\n",
    "    loss = optax.softmax_cross_entropy_with_integer_labels(\n",
    "        logits=logits, labels=batch['label']).mean()\n",
    "    metrics = {\n",
    "        'test_loss': loss,\n",
    "        'test_accuracy': jnp.mean(jnp.argmax(logits, -1) == batch['label']),\n",
    "    }\n",
    "    return state, metrics"
   ]
  },
  {
   "cell_type": "markdown",
   "id": "c42a1f92",
   "metadata": {},
   "source": [
    "# 6. Metric computation"
   ]
  },
  {
   "cell_type": "code",
   "execution_count": 10,
   "id": "184e6bce",
   "metadata": {},
   "outputs": [],
   "source": [
    "@jax.jit\n",
    "def compute_metrics(*, state, batch):\n",
    "    logits = module.apply(\n",
    "        {'params': state.params, 'batch_stats': state.batch_stats}, \n",
    "        batch['image'], \n",
    "        train=False)\n",
    "\n",
    "    loss = optax.softmax_cross_entropy_with_integer_labels(\n",
    "        logits=logits, labels=batch['label']).mean()\n",
    "    metric_updates = state.metrics.single_from_model_output(\n",
    "        logits=logits, labels=batch['label'], loss=loss)\n",
    "    metrics = state.metrics.merge(metric_updates)\n",
    "    state = state.replace(metrics=metrics)\n",
    "    return state"
   ]
  },
  {
   "cell_type": "markdown",
   "id": "15a6196b",
   "metadata": {},
   "source": [
    "# 7. Download data"
   ]
  },
  {
   "cell_type": "code",
   "execution_count": 11,
   "id": "a5c1d35c",
   "metadata": {},
   "outputs": [],
   "source": [
    "num_epochs = 10\n",
    "batch_size = 32\n",
    "\n",
    "# train_ds, test_ds = get_datasets(num_epochs, batch_size)"
   ]
  },
  {
   "cell_type": "markdown",
   "id": "c53ba561",
   "metadata": {},
   "source": [
    "# 8. Seed randomness"
   ]
  },
  {
   "cell_type": "code",
   "execution_count": 12,
   "id": "18455ffd",
   "metadata": {},
   "outputs": [],
   "source": [
    "# tf.random.set_seed(0)\n",
    "init_rng  = jax.random.PRNGKey(0)"
   ]
  },
  {
   "cell_type": "markdown",
   "id": "37afcb49",
   "metadata": {},
   "source": [
    "# 9. Initialize the TrainState"
   ]
  },
  {
   "cell_type": "code",
   "execution_count": 13,
   "id": "453f607d",
   "metadata": {},
   "outputs": [],
   "source": [
    "learning_rate = 0.01\n",
    "momentum = 0.9"
   ]
  },
  {
   "cell_type": "code",
   "execution_count": 14,
   "id": "dbac2423",
   "metadata": {},
   "outputs": [],
   "source": [
    "state = create_train_state(cnn, init_rng, learning_rate, momentum)\n",
    "del init_rng  # Must not be used anymore."
   ]
  },
  {
   "cell_type": "markdown",
   "id": "f9c0dc9b",
   "metadata": {},
   "source": [
    "# 10. Train and evaluate"
   ]
  },
  {
   "cell_type": "code",
   "execution_count": 15,
   "id": "40ec583e",
   "metadata": {},
   "outputs": [],
   "source": [
    "metrics_history = {\n",
    "    'train_loss': [],\n",
    "    'train_accuracy': [],\n",
    "    'test_loss': [],\n",
    "    'test_accuracy': []\n",
    "}"
   ]
  },
  {
   "cell_type": "code",
   "execution_count": 16,
   "id": "95d2ee24",
   "metadata": {
    "scrolled": true
   },
   "outputs": [
    {
     "name": "stdout",
     "output_type": "stream",
     "text": [
      "epoch: 1\n",
      "          train_loss | 2.2634478\n",
      "      train_accuracy | 0.36560565\n",
      "           test_loss | 42.668369\n",
      "       test_accuracy | 0.0028409092\n",
      "epoch: 2\n",
      "          train_loss | 1.9834497\n",
      "      train_accuracy | 0.40511715\n",
      "           test_loss | 3.0028856\n",
      "       test_accuracy | 0.34090909\n",
      "epoch: 3\n",
      "          train_loss | 1.8932968\n",
      "      train_accuracy | 0.41464967\n",
      "           test_loss | 2.2685809\n",
      "       test_accuracy | 0.42471591\n",
      "epoch: 4\n",
      "          train_loss | 1.8348106\n",
      "      train_accuracy | 0.42882407\n",
      "           test_loss | 4.0437484\n",
      "       test_accuracy | 0.296875\n",
      "epoch: 5\n",
      "          train_loss | 1.7543453\n",
      "      train_accuracy | 0.44965741\n",
      "           test_loss | 3.3726618\n",
      "       test_accuracy | 0.16335227\n",
      "epoch: 6\n",
      "          train_loss | 1.7052833\n",
      "      train_accuracy | 0.46134505\n",
      "           test_loss | 2.2117677\n",
      "       test_accuracy | 0.39346591\n",
      "epoch: 7\n",
      "          train_loss | 1.6194164\n",
      "      train_accuracy | 0.49814877\n",
      "           test_loss | 2.671839\n",
      "       test_accuracy | 0.42045453\n",
      "epoch: 8\n",
      "          train_loss | 1.5617791\n",
      "      train_accuracy | 0.50624448\n",
      "           test_loss | 2.6063986\n",
      "       test_accuracy | 0.40625\n",
      "epoch: 9\n",
      "          train_loss | 1.5469711\n",
      "      train_accuracy | 0.51881635\n",
      "           test_loss | 2.7220349\n",
      "       test_accuracy | 0.41051137\n",
      "epoch: 10\n",
      "          train_loss | 1.5142412\n",
      "      train_accuracy | 0.51735193\n",
      "           test_loss | 4.2098808\n",
      "       test_accuracy | 0.15482955\n"
     ]
    }
   ],
   "source": [
    "for epoch in range(num_epochs):\n",
    "    # Run optimization steps over training batches and compute batch metrics\n",
    "    loss_list = []\n",
    "    acc_list = []\n",
    "    for step, batch in enumerate(train_ds):\n",
    "        state, loss_metrics = train_step(state, batch) # get updated train state (which contains the updated parameters)\n",
    "        loss_list.append(loss_metrics['train_loss'])\n",
    "        acc_list.append(loss_metrics['train_accuracy'])\n",
    "    metrics_history['train_loss'].append(np.mean(loss_list))\n",
    "    metrics_history['train_accuracy'].append(np.mean(acc_list))\n",
    "\n",
    "    \n",
    "    # Test part\n",
    "    loss_list = []\n",
    "    acc_list = []\n",
    "    for step, batch in enumerate(test_ds):\n",
    "        _, loss_metrics = eval_step(state, batch)\n",
    "        loss_list.append(loss_metrics['test_loss'])\n",
    "        acc_list.append(loss_metrics['test_accuracy'])\n",
    "    metrics_history['test_loss'].append(np.mean(loss_list))\n",
    "    metrics_history['test_accuracy'].append(np.mean(acc_list))\n",
    "        \n",
    "    print(f\"epoch: {epoch +1}\")\n",
    "    for key, value in metrics_history.items():\n",
    "        print(f'{key:>20} | {value[-1]:<.8}')\n"
   ]
  },
  {
   "cell_type": "markdown",
   "id": "2821b23e",
   "metadata": {},
   "source": [
    "# 11. Visualize metrics"
   ]
  },
  {
   "cell_type": "code",
   "execution_count": 17,
   "id": "39389417",
   "metadata": {},
   "outputs": [
    {
     "data": {
      "image/png": "[encoded data removed]",
      "text/plain": [
       "<Figure size 1500x500 with 2 Axes>"
      ]
     },
     "metadata": {},
     "output_type": "display_data"
    },
    {
     "data": {
      "text/plain": [
       "<Figure size 640x480 with 0 Axes>"
      ]
     },
     "metadata": {},
     "output_type": "display_data"
    }
   ],
   "source": [
    "import matplotlib.pyplot as plt  # Visualization\n",
    "\n",
    "# Plot loss and accuracy in subplots\n",
    "fig, (ax1, ax2) = plt.subplots(1, 2, figsize=(15, 5))\n",
    "ax1.set_title('Loss')\n",
    "ax2.set_title('Accuracy')\n",
    "for dataset in ('train','test'):\n",
    "    ax1.plot(metrics_history[f'{dataset}_loss'], label=f'{dataset}_loss')\n",
    "    ax2.plot(metrics_history[f'{dataset}_accuracy'], label=f'{dataset}_accuracy')\n",
    "ax1.legend()\n",
    "ax2.legend()\n",
    "plt.show()\n",
    "plt.clf()"
   ]
  },
  {
   "cell_type": "markdown",
   "id": "538acb0e",
   "metadata": {},
   "source": [
    "# 12. Perform inference on test set"
   ]
  },
  {
   "cell_type": "code",
   "execution_count": 18,
   "id": "d255ec40",
   "metadata": {},
   "outputs": [
    {
     "data": {
      "text/plain": [
       "jaxlib.xla_extension.ArrayImpl"
      ]
     },
     "execution_count": 18,
     "metadata": {},
     "output_type": "execute_result"
    }
   ],
   "source": [
    "@jax.jit\n",
    "def pred_step(state: TrainState, batch):\n",
    "    \"\"\"Train for a single step.\"\"\"\n",
    "    logits = state.apply_fn(\n",
    "        {'params': state.params, 'batch_stats': state.batch_stats},\n",
    "        x=batch['image'], \n",
    "        train=False)\n",
    "    return jnp.argmax(logits, -1)\n",
    "\n",
    "pred_list = []\n",
    "for step, batch in enumerate(test_ds):\n",
    "    pred = pred_step(state, batch)\n",
    "    pred_list.append(pred)\n",
    "\n",
    "type(pred_list[0])"
   ]
  },
  {
   "cell_type": "code",
   "execution_count": null,
   "id": "11d48cad",
   "metadata": {},
   "outputs": [],
   "source": []
  }
 ],
 "metadata": {
  "kernelspec": {
   "display_name": "jax",
   "language": "python",
   "name": "jax"
  },
  "language_info": {
   "codemirror_mode": {
    "name": "ipython",
    "version": 3
   },
   "file_extension": ".py",
   "mimetype": "text/x-python",
   "name": "python",
   "nbconvert_exporter": "python",
   "pygments_lexer": "ipython3",
   "version": "3.8.16"
  }
 },
 "nbformat": 4,
 "nbformat_minor": 5
}
