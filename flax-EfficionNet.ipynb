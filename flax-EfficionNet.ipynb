{
 "cells": [
  {
   "cell_type": "markdown",
   "id": "e68c629c",
   "metadata": {},
   "source": [
    "https://uvadlc-notebooks.readthedocs.io/en/latest/tutorial_notebooks/JAX/tutorial5/Inception_ResNet_DenseNet.html"
   ]
  },
  {
   "cell_type": "markdown",
   "id": "0c58d22c",
   "metadata": {},
   "source": [
    "https://flax.readthedocs.io/en/latest/getting_started.html"
   ]
  },
  {
   "cell_type": "markdown",
   "id": "72a2e805",
   "metadata": {},
   "source": [
    "# Prepare data"
   ]
  },
  {
   "cell_type": "code",
   "execution_count": 1,
   "id": "476f0114",
   "metadata": {},
   "outputs": [],
   "source": [
    "from typing import Sequence, Any\n",
    "\n",
    "import numpy as np\n",
    "import jax\n",
    "import jax.numpy as jnp\n",
    "import flax.linen as nn"
   ]
  },
  {
   "cell_type": "markdown",
   "id": "3a603969",
   "metadata": {},
   "source": [
    "# 2. Loading data"
   ]
  },
  {
   "cell_type": "code",
   "execution_count": 2,
   "id": "0e52b8ce",
   "metadata": {},
   "outputs": [
    {
     "data": {
      "application/vnd.jupyter.widget-view+json": {
       "model_id": "4db629b866aa45c2862cf7761d2693f3",
       "version_major": 2,
       "version_minor": 0
      },
      "text/plain": [
       "  0%|          | 0/3457 [00:00<?, ?it/s]"
      ]
     },
     "metadata": {},
     "output_type": "display_data"
    },
    {
     "name": "stdout",
     "output_type": "stream",
     "text": [
      "(2765, 224, 224, 3) (2765,)\n",
      "87 22\n"
     ]
    }
   ],
   "source": [
    "import glob\n",
    "import numpy as np\n",
    "from PIL import Image\n",
    "from tqdm.notebook import tqdm\n",
    "\n",
    "def mapping(n, inverse=False):\n",
    "    mapping_dict = {'피스': 0, '터짐': 1, '곰팡이': 2, '들뜸': 3, '오염': 4, '창틀,문틀수정': 5, '면불량': 6, '걸레받이수정': 7, '몰딩수정': 8, '오타공': 9, '석고수정': 10, '이음부불량': 11, '꼬임': 12, '울음': 13, '틈새과다': 14, '훼손': 15, '가구수정': 16, '반점': 17, '녹오염': 18}\n",
    "    inverse_mapping = {v: k for k, v in mapping_dict.items()}\n",
    "    if inverse:\n",
    "        return inverse_mapping[n]\n",
    "    return mapping_dict[n]\n",
    "\n",
    "def imread_and_resize(img_path, size = (224, 224)):\n",
    "    image = Image.open(img_path)\n",
    "    image = image.resize((224, 224))\n",
    "    \n",
    "    return image\n",
    "\n",
    "def get_datasets(batch_size = 32):\n",
    "    img_path_list = glob.glob(\"../dataset/train/*/*.png\")\n",
    "    img_list = []\n",
    "    label_list = []\n",
    "    for path in tqdm(img_path_list):\n",
    "        img_list.append(imread_and_resize(path))\n",
    "        label_list.append(mapping(path.split('/')[3]))\n",
    "    images = jnp.stack([jnp.array(img) for img in img_list])\n",
    "    labels = jnp.array(label_list)\n",
    "    images.shape, labels.shape\n",
    "\n",
    "    from sklearn.model_selection import train_test_split\n",
    "\n",
    "\n",
    "    x_train, x_test, y_train, y_test = train_test_split(images, labels, test_size=0.2, random_state=42)\n",
    "    print(x_train.shape, y_train.shape)\n",
    "\n",
    "    train_ds = []\n",
    "    for i in range(np.ceil(x_train.shape[0] / 32).astype(np.int8)):\n",
    "        batch_start = i * 32\n",
    "        batch_end = (i+1) * 32\n",
    "        sub_dict = {\n",
    "            'image': x_train[batch_start:batch_end], \n",
    "            'label': y_train[batch_start:batch_end], \n",
    "        }\n",
    "        train_ds.append(sub_dict)\n",
    "\n",
    "    test_ds = []\n",
    "    for i in range(np.ceil(x_test.shape[0] / 32).astype(np.int8)):\n",
    "        batch_start = i * 32\n",
    "        batch_end = (i+1) * 32\n",
    "        sub_dict = {\n",
    "            'image': x_train[batch_start:batch_end], \n",
    "            'label': y_train[batch_start:batch_end], \n",
    "        }\n",
    "        test_ds.append(sub_dict)\n",
    "    print(len(train_ds), len(test_ds))\n",
    "    return train_ds, test_ds\n",
    "train_ds, test_ds = get_datasets()"
   ]
  },
  {
   "cell_type": "markdown",
   "id": "48b199fb",
   "metadata": {},
   "source": [
    "# 3. Define network"
   ]
  },
  {
   "cell_type": "code",
   "execution_count": 3,
   "id": "a3814092",
   "metadata": {},
   "outputs": [],
   "source": [
    "from flax import linen as nn  # Linen API\n",
    "\n",
    "# from models import create_efficientnet_v2\n",
    "# model = create_efficientnet_v2('s', num_classes = 19)\n",
    "\n",
    "\"\"\"\n",
    "Efficientnet_b0 from https://github.com/rwightman/efficientnet-jax\n",
    "to use this.\n",
    "1. git clone repository\n",
    "2. copy jeffnet directory to here.\n",
    "\"\"\"\n",
    "from jeffnet.linen import create_model\n",
    "rng = jax.random.PRNGKey(0)\n",
    "model, variables = create_model('pt_efficientnet_b0', pretrained=True, rng=rng)"
   ]
  },
  {
   "cell_type": "markdown",
   "id": "e48870dd",
   "metadata": {},
   "source": [
    "## View model layers"
   ]
  },
  {
   "cell_type": "code",
   "execution_count": 5,
   "id": "338d8377",
   "metadata": {},
   "outputs": [
    {
     "ename": "TypeError",
     "evalue": "__call__() missing 1 required positional argument: 'training'",
     "output_type": "error",
     "traceback": [
      "\u001b[0;31m---------------------------------------------------------------------------\u001b[0m",
      "\u001b[0;31mTypeError\u001b[0m                                 Traceback (most recent call last)",
      "Cell \u001b[0;32mIn[5], line 5\u001b[0m\n\u001b[1;32m      1\u001b[0m \u001b[38;5;28;01mimport\u001b[39;00m \u001b[38;5;21;01mjax\u001b[39;00m\n\u001b[1;32m      2\u001b[0m \u001b[38;5;28;01mimport\u001b[39;00m \u001b[38;5;21;01mjax\u001b[39;00m\u001b[38;5;21;01m.\u001b[39;00m\u001b[38;5;21;01mnumpy\u001b[39;00m \u001b[38;5;28;01mas\u001b[39;00m \u001b[38;5;21;01mjnp\u001b[39;00m  \u001b[38;5;66;03m# JAX NumPy\u001b[39;00m\n\u001b[0;32m----> 5\u001b[0m \u001b[38;5;28mprint\u001b[39m(\u001b[43mmodel\u001b[49m\u001b[38;5;241;43m.\u001b[39;49m\u001b[43mtabulate\u001b[49m\u001b[43m(\u001b[49m\u001b[43mjax\u001b[49m\u001b[38;5;241;43m.\u001b[39;49m\u001b[43mrandom\u001b[49m\u001b[38;5;241;43m.\u001b[39;49m\u001b[43mPRNGKey\u001b[49m\u001b[43m(\u001b[49m\u001b[38;5;241;43m0\u001b[39;49m\u001b[43m)\u001b[49m\u001b[43m,\u001b[49m\u001b[43m \u001b[49m\u001b[43mjnp\u001b[49m\u001b[38;5;241;43m.\u001b[39;49m\u001b[43mones\u001b[49m\u001b[43m(\u001b[49m\u001b[43m(\u001b[49m\u001b[38;5;241;43m1\u001b[39;49m\u001b[43m,\u001b[49m\u001b[43m \u001b[49m\u001b[38;5;241;43m224\u001b[39;49m\u001b[43m,\u001b[49m\u001b[43m \u001b[49m\u001b[38;5;241;43m224\u001b[39;49m\u001b[43m,\u001b[49m\u001b[43m \u001b[49m\u001b[38;5;241;43m3\u001b[39;49m\u001b[43m)\u001b[49m\u001b[43m)\u001b[49m\u001b[43m)\u001b[49m, training\u001b[38;5;241m=\u001b[39m\u001b[38;5;28;01mFalse\u001b[39;00m)\n",
      "File \u001b[0;32m~/anaconda3/envs/jax/lib/python3.8/site-packages/flax/linen/module.py:1950\u001b[0m, in \u001b[0;36mModule.tabulate\u001b[0;34m(self, rngs, depth, show_repeated, mutable, console_kwargs, *args, **kwargs)\u001b[0m\n\u001b[1;32m   1945\u001b[0m \u001b[38;5;28;01mfrom\u001b[39;00m \u001b[38;5;21;01mflax\u001b[39;00m\u001b[38;5;21;01m.\u001b[39;00m\u001b[38;5;21;01mlinen\u001b[39;00m \u001b[38;5;28;01mimport\u001b[39;00m summary\n\u001b[1;32m   1947\u001b[0m tabulate_fn \u001b[38;5;241m=\u001b[39m summary\u001b[38;5;241m.\u001b[39mtabulate(\u001b[38;5;28mself\u001b[39m, rngs, depth\u001b[38;5;241m=\u001b[39mdepth,\n\u001b[1;32m   1948\u001b[0m                                show_repeated\u001b[38;5;241m=\u001b[39mshow_repeated, mutable\u001b[38;5;241m=\u001b[39mmutable,\n\u001b[1;32m   1949\u001b[0m                                console_kwargs\u001b[38;5;241m=\u001b[39mconsole_kwargs)\n\u001b[0;32m-> 1950\u001b[0m \u001b[38;5;28;01mreturn\u001b[39;00m \u001b[43mtabulate_fn\u001b[49m\u001b[43m(\u001b[49m\u001b[38;5;241;43m*\u001b[39;49m\u001b[43margs\u001b[49m\u001b[43m,\u001b[49m\u001b[43m \u001b[49m\u001b[38;5;241;43m*\u001b[39;49m\u001b[38;5;241;43m*\u001b[39;49m\u001b[43mkwargs\u001b[49m\u001b[43m)\u001b[49m\n",
      "File \u001b[0;32m~/anaconda3/envs/jax/lib/python3.8/site-packages/flax/linen/summary.py:230\u001b[0m, in \u001b[0;36mtabulate.<locals>._tabulate_fn\u001b[0;34m(*fn_args, **fn_kwargs)\u001b[0m\n\u001b[1;32m    228\u001b[0m \u001b[38;5;28;01mdef\u001b[39;00m \u001b[38;5;21m_tabulate_fn\u001b[39m(\u001b[38;5;241m*\u001b[39mfn_args, \u001b[38;5;241m*\u001b[39m\u001b[38;5;241m*\u001b[39mfn_kwargs):\n\u001b[1;32m    229\u001b[0m   table_fn \u001b[38;5;241m=\u001b[39m _get_module_table(module, depth\u001b[38;5;241m=\u001b[39mdepth, show_repeated\u001b[38;5;241m=\u001b[39mshow_repeated)\n\u001b[0;32m--> 230\u001b[0m   table \u001b[38;5;241m=\u001b[39m \u001b[43mtable_fn\u001b[49m\u001b[43m(\u001b[49m\u001b[43mrngs\u001b[49m\u001b[43m,\u001b[49m\u001b[43m \u001b[49m\u001b[38;5;241;43m*\u001b[39;49m\u001b[43mfn_args\u001b[49m\u001b[43m,\u001b[49m\u001b[43m \u001b[49m\u001b[43mmutable\u001b[49m\u001b[38;5;241;43m=\u001b[39;49m\u001b[43mmutable\u001b[49m\u001b[43m,\u001b[49m\u001b[43m \u001b[49m\u001b[38;5;241;43m*\u001b[39;49m\u001b[38;5;241;43m*\u001b[39;49m\u001b[43mfn_kwargs\u001b[49m\u001b[43m,\u001b[49m\u001b[43m \u001b[49m\u001b[38;5;241;43m*\u001b[39;49m\u001b[38;5;241;43m*\u001b[39;49m\u001b[43mkwargs\u001b[49m\u001b[43m)\u001b[49m\n\u001b[1;32m    231\u001b[0m   \u001b[38;5;28;01mreturn\u001b[39;00m _render_table(table, console_kwargs)\n",
      "File \u001b[0;32m~/anaconda3/envs/jax/lib/python3.8/site-packages/flax/linen/summary.py:250\u001b[0m, in \u001b[0;36m_get_module_table.<locals>._get_table_fn\u001b[0;34m(*args, **kwargs)\u001b[0m\n\u001b[1;32m    247\u001b[0m \u001b[38;5;28;01mdef\u001b[39;00m \u001b[38;5;21m_get_variables\u001b[39m():\n\u001b[1;32m    248\u001b[0m   \u001b[38;5;28;01mreturn\u001b[39;00m module\u001b[38;5;241m.\u001b[39minit(\u001b[38;5;241m*\u001b[39margs, \u001b[38;5;241m*\u001b[39m\u001b[38;5;241m*\u001b[39mkwargs)\n\u001b[0;32m--> 250\u001b[0m variables \u001b[38;5;241m=\u001b[39m \u001b[43mjax\u001b[49m\u001b[38;5;241;43m.\u001b[39;49m\u001b[43meval_shape\u001b[49m\u001b[43m(\u001b[49m\u001b[43m_get_variables\u001b[49m\u001b[43m)\u001b[49m\n\u001b[1;32m    251\u001b[0m calls \u001b[38;5;241m=\u001b[39m module_lib\u001b[38;5;241m.\u001b[39m_context\u001b[38;5;241m.\u001b[39mcall_info_stack[\u001b[38;5;241m-\u001b[39m\u001b[38;5;241m1\u001b[39m]\u001b[38;5;241m.\u001b[39mcalls\n\u001b[1;32m    252\u001b[0m calls\u001b[38;5;241m.\u001b[39msort(key\u001b[38;5;241m=\u001b[39m\u001b[38;5;28;01mlambda\u001b[39;00m c: c\u001b[38;5;241m.\u001b[39mindex)\n",
      "    \u001b[0;31m[... skipping hidden 8 frame]\u001b[0m\n",
      "File \u001b[0;32m~/anaconda3/envs/jax/lib/python3.8/site-packages/flax/linen/summary.py:248\u001b[0m, in \u001b[0;36m_get_module_table.<locals>._get_table_fn.<locals>._get_variables\u001b[0;34m()\u001b[0m\n\u001b[1;32m    247\u001b[0m \u001b[38;5;28;01mdef\u001b[39;00m \u001b[38;5;21m_get_variables\u001b[39m():\n\u001b[0;32m--> 248\u001b[0m   \u001b[38;5;28;01mreturn\u001b[39;00m \u001b[43mmodule\u001b[49m\u001b[38;5;241;43m.\u001b[39;49m\u001b[43minit\u001b[49m\u001b[43m(\u001b[49m\u001b[38;5;241;43m*\u001b[39;49m\u001b[43margs\u001b[49m\u001b[43m,\u001b[49m\u001b[43m \u001b[49m\u001b[38;5;241;43m*\u001b[39;49m\u001b[38;5;241;43m*\u001b[39;49m\u001b[43mkwargs\u001b[49m\u001b[43m)\u001b[49m\n",
      "    \u001b[0;31m[... skipping hidden 8 frame]\u001b[0m\n",
      "File \u001b[0;32m~/anaconda3/envs/jax/lib/python3.8/site-packages/flax/linen/module.py:845\u001b[0m, in \u001b[0;36mModule._call_wrapped_method\u001b[0;34m(self, fun, args, kwargs)\u001b[0m\n\u001b[1;32m    843\u001b[0m \u001b[38;5;28;01mif\u001b[39;00m _use_named_call:\n\u001b[1;32m    844\u001b[0m   \u001b[38;5;28;01mwith\u001b[39;00m jax\u001b[38;5;241m.\u001b[39mnamed_scope(_derive_profiling_name(\u001b[38;5;28mself\u001b[39m, fun)):\n\u001b[0;32m--> 845\u001b[0m     y \u001b[38;5;241m=\u001b[39m \u001b[43mfun\u001b[49m\u001b[43m(\u001b[49m\u001b[38;5;28;43mself\u001b[39;49m\u001b[43m,\u001b[49m\u001b[43m \u001b[49m\u001b[38;5;241;43m*\u001b[39;49m\u001b[43margs\u001b[49m\u001b[43m,\u001b[49m\u001b[43m \u001b[49m\u001b[38;5;241;43m*\u001b[39;49m\u001b[38;5;241;43m*\u001b[39;49m\u001b[43mkwargs\u001b[49m\u001b[43m)\u001b[49m\n\u001b[1;32m    846\u001b[0m \u001b[38;5;28;01melse\u001b[39;00m:\n\u001b[1;32m    847\u001b[0m   y \u001b[38;5;241m=\u001b[39m fun(\u001b[38;5;28mself\u001b[39m, \u001b[38;5;241m*\u001b[39margs, \u001b[38;5;241m*\u001b[39m\u001b[38;5;241m*\u001b[39mkwargs)\n",
      "\u001b[0;31mTypeError\u001b[0m: __call__() missing 1 required positional argument: 'training'"
     ]
    }
   ],
   "source": [
    "import jax\n",
    "import jax.numpy as jnp  # JAX NumPy\n",
    "\n",
    "\n",
    "# print(model.tabulate(jax.random.PRNGKey(0), jnp.ones((1, 224, 224, 3))), training=False)"
   ]
  },
  {
   "cell_type": "markdown",
   "id": "df68f0f4",
   "metadata": {},
   "source": [
    "# 4. Create a TrainState"
   ]
  },
  {
   "cell_type": "code",
   "execution_count": 6,
   "id": "77ff3a8b",
   "metadata": {},
   "outputs": [],
   "source": [
    "from clu import metrics\n",
    "from flax.training import train_state  # Useful dataclass to keep train state\n",
    "from flax import struct                # Flax dataclasses\n",
    "import optax                           # Common loss functions and optimizers"
   ]
  },
  {
   "cell_type": "code",
   "execution_count": 7,
   "id": "4ab01d4b",
   "metadata": {},
   "outputs": [],
   "source": [
    "@struct.dataclass\n",
    "class Metrics(metrics.Collection):\n",
    "    accuracy: metrics.Accuracy\n",
    "    loss: metrics.Average.from_output('loss')"
   ]
  },
  {
   "cell_type": "code",
   "execution_count": 18,
   "id": "6e7750da",
   "metadata": {},
   "outputs": [],
   "source": [
    "class TrainState(train_state.TrainState):\n",
    "    metrics: Metrics\n",
    "    batch_stats: Any\n",
    "\n",
    "def create_train_state(module, rng, learning_rate, momentum):\n",
    "    \"\"\"Creates an initial `TrainState`.\"\"\"\n",
    "    vars_in = module.init(rng, jnp.ones([1, 224, 224, 3]), training=False) # initialize parameters by passing a template image\n",
    "#     parm\n",
    "    tx = optax.sgd(learning_rate, momentum)\n",
    "    return TrainState.create(\n",
    "        apply_fn=module.apply, \n",
    "        params=vars_in['params'], \n",
    "        batch_stats=vars_in['batch_stats'], \n",
    "        tx=tx,\n",
    "        metrics=Metrics.empty())"
   ]
  },
  {
   "cell_type": "markdown",
   "id": "1469be2e",
   "metadata": {},
   "source": [
    "# 5. Training step"
   ]
  },
  {
   "cell_type": "code",
   "execution_count": 11,
   "id": "cf15bd49",
   "metadata": {},
   "outputs": [],
   "source": [
    "@jax.jit\n",
    "def train_step(state: TrainState, batch):\n",
    "    \"\"\"Train for a single step.\"\"\"\n",
    "    def loss_fn(params):\n",
    "        logits, updates = state.apply_fn(\n",
    "            {'params': params, 'batch_stats': state.batch_stats},\n",
    "            x=batch['image'], \n",
    "            training=True, \n",
    "            mutable=['batch_stats']\n",
    "        )\n",
    "        \n",
    "        loss = optax.softmax_cross_entropy_with_integer_labels(\n",
    "            logits=logits, labels=batch['label']).mean()\n",
    "        return loss, (logits, updates)\n",
    "    \n",
    "    grad_fn = jax.value_and_grad(loss_fn, has_aux=True)\n",
    "    (loss, (logits, updates)), grads = grad_fn(state.params)\n",
    "    state = state.apply_gradients(grads=grads)\n",
    "    state = state.replace(batch_stats=updates['batch_stats'])\n",
    "    metrics = {\n",
    "        'train_loss': loss,\n",
    "        'train_accuracy': jnp.mean(jnp.argmax(logits, -1) == batch['label']),\n",
    "    }\n",
    "    return state, metrics"
   ]
  },
  {
   "cell_type": "code",
   "execution_count": 12,
   "id": "4ece3564",
   "metadata": {},
   "outputs": [],
   "source": [
    "@jax.jit\n",
    "def eval_step(state: TrainState, batch):\n",
    "    \"\"\"Train for a single step.\"\"\"\n",
    "    logits = state.apply_fn(\n",
    "        {'params': state.params, 'batch_stats': state.batch_stats},\n",
    "        x=batch['image'], \n",
    "        training=False)\n",
    "    loss = optax.softmax_cross_entropy_with_integer_labels(\n",
    "        logits=logits, labels=batch['label']).mean()\n",
    "    metrics = {\n",
    "        'test_loss': loss,\n",
    "        'test_accuracy': jnp.mean(jnp.argmax(logits, -1) == batch['label']),\n",
    "    }\n",
    "    return state, metrics"
   ]
  },
  {
   "cell_type": "markdown",
   "id": "c42a1f92",
   "metadata": {},
   "source": [
    "# 6. Metric computation"
   ]
  },
  {
   "cell_type": "code",
   "execution_count": 13,
   "id": "184e6bce",
   "metadata": {},
   "outputs": [],
   "source": [
    "@jax.jit\n",
    "def compute_metrics(*, state, batch):\n",
    "    logits = module.apply(\n",
    "        {'params': state.params, 'batch_stats': state.batch_stats}, \n",
    "        batch['image'], \n",
    "        training=False)\n",
    "\n",
    "    loss = optax.softmax_cross_entropy_with_integer_labels(\n",
    "        logits=logits, labels=batch['label']).mean()\n",
    "    metric_updates = state.metrics.single_from_model_output(\n",
    "        logits=logits, labels=batch['label'], loss=loss)\n",
    "    metrics = state.metrics.merge(metric_updates)\n",
    "    state = state.replace(metrics=metrics)\n",
    "    return state"
   ]
  },
  {
   "cell_type": "markdown",
   "id": "15a6196b",
   "metadata": {},
   "source": [
    "# 7. Download data"
   ]
  },
  {
   "cell_type": "code",
   "execution_count": 14,
   "id": "a5c1d35c",
   "metadata": {},
   "outputs": [],
   "source": [
    "num_epochs = 10\n",
    "batch_size = 32\n",
    "\n",
    "# train_ds, test_ds = get_datasets(num_epochs, batch_size)"
   ]
  },
  {
   "cell_type": "markdown",
   "id": "c53ba561",
   "metadata": {},
   "source": [
    "# 8. Seed randomness"
   ]
  },
  {
   "cell_type": "code",
   "execution_count": 15,
   "id": "18455ffd",
   "metadata": {},
   "outputs": [],
   "source": [
    "# tf.random.set_seed(0)\n",
    "init_rng  = jax.random.PRNGKey(0)"
   ]
  },
  {
   "cell_type": "markdown",
   "id": "37afcb49",
   "metadata": {},
   "source": [
    "# 9. Initialize the TrainState"
   ]
  },
  {
   "cell_type": "code",
   "execution_count": 16,
   "id": "453f607d",
   "metadata": {},
   "outputs": [],
   "source": [
    "learning_rate = 0.01\n",
    "momentum = 0.9"
   ]
  },
  {
   "cell_type": "code",
   "execution_count": 19,
   "id": "dbac2423",
   "metadata": {},
   "outputs": [],
   "source": [
    "state = create_train_state(model, init_rng, learning_rate, momentum)\n",
    "del init_rng  # Must not be used anymore."
   ]
  },
  {
   "cell_type": "markdown",
   "id": "f9c0dc9b",
   "metadata": {},
   "source": [
    "# 10. Train and evaluate"
   ]
  },
  {
   "cell_type": "code",
   "execution_count": 20,
   "id": "40ec583e",
   "metadata": {},
   "outputs": [],
   "source": [
    "metrics_history = {\n",
    "    'train_loss': [],\n",
    "    'train_accuracy': [],\n",
    "    'test_loss': [],\n",
    "    'test_accuracy': []\n",
    "}"
   ]
  },
  {
   "cell_type": "code",
   "execution_count": 21,
   "id": "95d2ee24",
   "metadata": {
    "scrolled": true
   },
   "outputs": [
    {
     "name": "stdout",
     "output_type": "stream",
     "text": [
      "epoch: 1\n",
      "          train_loss | 2.9849503\n",
      "      train_accuracy | 0.38500223\n",
      "           test_loss | 932.28693\n",
      "       test_accuracy | 0.40625\n",
      "epoch: 2\n",
      "          train_loss | 1.890455\n",
      "      train_accuracy | 0.43205681\n",
      "           test_loss | 5.1236277\n",
      "       test_accuracy | 0.44744319\n",
      "epoch: 3\n",
      "          train_loss | 1.6793476\n",
      "      train_accuracy | 0.47784042\n",
      "           test_loss | 2.7760236\n",
      "       test_accuracy | 0.52556819\n",
      "epoch: 4\n",
      "          train_loss | 1.5025121\n",
      "      train_accuracy | 0.5123232\n",
      "           test_loss | 6.0252566\n",
      "       test_accuracy | 0.44602272\n",
      "epoch: 5\n",
      "          train_loss | 1.331707\n",
      "      train_accuracy | 0.5670867\n",
      "           test_loss | 2.2435777\n",
      "       test_accuracy | 0.54403406\n",
      "epoch: 6\n",
      "          train_loss | 1.1980627\n",
      "      train_accuracy | 0.58054262\n",
      "           test_loss | 2.1508901\n",
      "       test_accuracy | 0.52840906\n",
      "epoch: 7\n",
      "          train_loss | 1.108662\n",
      "      train_accuracy | 0.62270665\n",
      "           test_loss | 1.8056614\n",
      "       test_accuracy | 0.5\n",
      "epoch: 8\n",
      "          train_loss | 1.0110558\n",
      "      train_accuracy | 0.64837533\n",
      "           test_loss | 1.7060304\n",
      "       test_accuracy | 0.56392044\n",
      "epoch: 9\n",
      "          train_loss | 0.96927303\n",
      "      train_accuracy | 0.64854109\n",
      "           test_loss | 1.6824098\n",
      "       test_accuracy | 0.55397725\n",
      "epoch: 10\n",
      "          train_loss | 0.88700163\n",
      "      train_accuracy | 0.6733532\n",
      "           test_loss | 1.5360761\n",
      "       test_accuracy | 0.59659094\n"
     ]
    }
   ],
   "source": [
    "for epoch in range(num_epochs):\n",
    "    # Run optimization steps over training batches and compute batch metrics\n",
    "    loss_list = []\n",
    "    acc_list = []\n",
    "    for step, batch in enumerate(train_ds):\n",
    "        state, loss_metrics = train_step(state, batch) # get updated train state (which contains the updated parameters)\n",
    "        loss_list.append(loss_metrics['train_loss'])\n",
    "        acc_list.append(loss_metrics['train_accuracy'])\n",
    "    metrics_history['train_loss'].append(np.mean(loss_list))\n",
    "    metrics_history['train_accuracy'].append(np.mean(acc_list))\n",
    "\n",
    "    \n",
    "    # Test part\n",
    "    loss_list = []\n",
    "    acc_list = []\n",
    "    for step, batch in enumerate(test_ds):\n",
    "        _, loss_metrics = eval_step(state, batch)\n",
    "        loss_list.append(loss_metrics['test_loss'])\n",
    "        acc_list.append(loss_metrics['test_accuracy'])\n",
    "    metrics_history['test_loss'].append(np.mean(loss_list))\n",
    "    metrics_history['test_accuracy'].append(np.mean(acc_list))\n",
    "        \n",
    "    print(f\"epoch: {epoch +1}\")\n",
    "    for key, value in metrics_history.items():\n",
    "        print(f'{key:>20} | {value[-1]:<.8}')\n"
   ]
  },
  {
   "cell_type": "markdown",
   "id": "80b480b8",
   "metadata": {},
   "source": [
    "# 11. Visualize metrics"
   ]
  },
  {
   "cell_type": "code",
   "execution_count": 22,
   "id": "ceca513e",
   "metadata": {},
   "outputs": [
    {
     "data": {
      "image/png": "[encoded data removed]",
      "text/plain": [
       "<Figure size 1500x500 with 2 Axes>"
      ]
     },
     "metadata": {},
     "output_type": "display_data"
    },
    {
     "data": {
      "text/plain": [
       "<Figure size 640x480 with 0 Axes>"
      ]
     },
     "metadata": {},
     "output_type": "display_data"
    }
   ],
   "source": [
    "import matplotlib.pyplot as plt  # Visualization\n",
    "\n",
    "# Plot loss and accuracy in subplots\n",
    "fig, (ax1, ax2) = plt.subplots(1, 2, figsize=(15, 5))\n",
    "ax1.set_title('Loss')\n",
    "ax2.set_title('Accuracy')\n",
    "for dataset in ('train','test'):\n",
    "    ax1.plot(metrics_history[f'{dataset}_loss'], label=f'{dataset}_loss')\n",
    "    ax2.plot(metrics_history[f'{dataset}_accuracy'], label=f'{dataset}_accuracy')\n",
    "ax1.legend()\n",
    "ax2.legend()\n",
    "plt.show()\n",
    "plt.clf()"
   ]
  },
  {
   "cell_type": "markdown",
   "id": "538acb0e",
   "metadata": {},
   "source": [
    "# 12. Perform inference on test set"
   ]
  },
  {
   "cell_type": "code",
   "execution_count": 24,
   "id": "4213ec6a",
   "metadata": {},
   "outputs": [
    {
     "data": {
      "text/plain": [
       "jaxlib.xla_extension.ArrayImpl"
      ]
     },
     "execution_count": 24,
     "metadata": {},
     "output_type": "execute_result"
    }
   ],
   "source": [
    "@jax.jit\n",
    "def pred_step(state: TrainState, batch):\n",
    "    \"\"\"Train for a single step.\"\"\"\n",
    "    logits = state.apply_fn(\n",
    "        {'params': state.params, 'batch_stats': state.batch_stats},\n",
    "        x=batch['image'], \n",
    "        training=False)\n",
    "    return jnp.argmax(logits, -1)\n",
    "\n",
    "pred_list = []\n",
    "for step, batch in enumerate(test_ds):\n",
    "    pred = pred_step(state, batch)\n",
    "    pred_list.append(pred)\n",
    "\n",
    "type(pred_list[0])"
   ]
  },
  {
   "cell_type": "code",
   "execution_count": null,
   "id": "0d3d41cc",
   "metadata": {},
   "outputs": [],
   "source": []
  }
 ],
 "metadata": {
  "kernelspec": {
   "display_name": "jax",
   "language": "python",
   "name": "jax"
  },
  "language_info": {
   "codemirror_mode": {
    "name": "ipython",
    "version": 3
   },
   "file_extension": ".py",
   "mimetype": "text/x-python",
   "name": "python",
   "nbconvert_exporter": "python",
   "pygments_lexer": "ipython3",
   "version": "3.8.16"
  }
 },
 "nbformat": 4,
 "nbformat_minor": 5
}
